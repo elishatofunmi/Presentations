{
 "cells": [
  {
   "cell_type": "markdown",
   "metadata": {},
   "source": [
    "# Baseline Titanic challenge Solution"
   ]
  },
  {
   "cell_type": "markdown",
   "metadata": {},
   "source": [
    "### Data Description\n",
    "The titanic challenge is a challenge on the predominant titanic event that took place years ago at where we had alot of people on a ship. Unfortunately, the ship collided with an iceberg which led to the sinking of the ship and loss of so many lives. \n",
    "This challenge is therefore put forth from the details gotten regarding people on the ship who survived and those who didnt. The challenge is all about you (the data scienctist)  build a predictive model which is able to determine peoples survival. \n",
    "### The Data Set\n",
    "The data set is avaliable on kaggle and can be accessed using the link below:\n",
    "https://www.kaggle.com/c/titanic\n",
    "\n",
    "### Data description\n",
    "    from the dataset we do have the following information stated regarding each fellow on the ship:\n",
    "    *passenger_id\n",
    "    *pclass\n",
    "    *name\n",
    "    *sex\n",
    "    *age\n",
    "    *sibsp\n",
    "    *parch\n",
    "    *ticket\n",
    "    *fare\n",
    "    *cabin\n",
    "    *embarked\n",
    "  \n",
    "    \n",
    "the bone of contention is to forecast the survival of a person given the details above.\n",
    "\n",
    "    Survival in this case can be represented in binary:\n",
    "    *one (1) means 'will survive'.\n",
    "    *zero (0) means 'will not survive'.\n",
    "    \n",
    "Let's get to coding. Let's begin by importing the necessary libaries that are relevant to modelling this problem and solving it."
   ]
  },
  {
   "cell_type": "code",
   "execution_count": 1,
   "metadata": {},
   "outputs": [],
   "source": [
    "import pandas as pd\n",
    "import numpy as np\n",
    "import seaborn as sns\n",
    "import os, sys\n",
    "import warnings\n",
    "warnings.filterwarnings('ignore')\n"
   ]
  },
  {
   "cell_type": "markdown",
   "metadata": {},
   "source": [
    "let's read in the data using pandas method called read_csv for reading in, csv files."
   ]
  },
  {
   "cell_type": "code",
   "execution_count": 2,
   "metadata": {},
   "outputs": [
    {
     "data": {
      "text/plain": [
       "((891, 12), (418, 11))"
      ]
     },
     "execution_count": 2,
     "metadata": {},
     "output_type": "execute_result"
    }
   ],
   "source": [
    "train = pd.read_csv('train.csv')\n",
    "\n",
    "test= pd.read_csv('test.csv')\n",
    "train.shape, test.shape"
   ]
  },
  {
   "cell_type": "markdown",
   "metadata": {},
   "source": [
    "let's take a look at the first 5 entries of our data just to have grasp of how our data looks like."
   ]
  },
  {
   "cell_type": "code",
   "execution_count": 3,
   "metadata": {},
   "outputs": [
    {
     "data": {
      "text/html": [
       "<div>\n",
       "<style scoped>\n",
       "    .dataframe tbody tr th:only-of-type {\n",
       "        vertical-align: middle;\n",
       "    }\n",
       "\n",
       "    .dataframe tbody tr th {\n",
       "        vertical-align: top;\n",
       "    }\n",
       "\n",
       "    .dataframe thead th {\n",
       "        text-align: right;\n",
       "    }\n",
       "</style>\n",
       "<table border=\"1\" class=\"dataframe\">\n",
       "  <thead>\n",
       "    <tr style=\"text-align: right;\">\n",
       "      <th></th>\n",
       "      <th>PassengerId</th>\n",
       "      <th>Survived</th>\n",
       "      <th>Pclass</th>\n",
       "      <th>Name</th>\n",
       "      <th>Sex</th>\n",
       "      <th>Age</th>\n",
       "      <th>SibSp</th>\n",
       "      <th>Parch</th>\n",
       "      <th>Ticket</th>\n",
       "      <th>Fare</th>\n",
       "      <th>Cabin</th>\n",
       "      <th>Embarked</th>\n",
       "    </tr>\n",
       "  </thead>\n",
       "  <tbody>\n",
       "    <tr>\n",
       "      <td>0</td>\n",
       "      <td>1</td>\n",
       "      <td>0</td>\n",
       "      <td>3</td>\n",
       "      <td>Braund, Mr. Owen Harris</td>\n",
       "      <td>male</td>\n",
       "      <td>22.0</td>\n",
       "      <td>1</td>\n",
       "      <td>0</td>\n",
       "      <td>A/5 21171</td>\n",
       "      <td>7.2500</td>\n",
       "      <td>NaN</td>\n",
       "      <td>S</td>\n",
       "    </tr>\n",
       "    <tr>\n",
       "      <td>1</td>\n",
       "      <td>2</td>\n",
       "      <td>1</td>\n",
       "      <td>1</td>\n",
       "      <td>Cumings, Mrs. John Bradley (Florence Briggs Th...</td>\n",
       "      <td>female</td>\n",
       "      <td>38.0</td>\n",
       "      <td>1</td>\n",
       "      <td>0</td>\n",
       "      <td>PC 17599</td>\n",
       "      <td>71.2833</td>\n",
       "      <td>C85</td>\n",
       "      <td>C</td>\n",
       "    </tr>\n",
       "    <tr>\n",
       "      <td>2</td>\n",
       "      <td>3</td>\n",
       "      <td>1</td>\n",
       "      <td>3</td>\n",
       "      <td>Heikkinen, Miss. Laina</td>\n",
       "      <td>female</td>\n",
       "      <td>26.0</td>\n",
       "      <td>0</td>\n",
       "      <td>0</td>\n",
       "      <td>STON/O2. 3101282</td>\n",
       "      <td>7.9250</td>\n",
       "      <td>NaN</td>\n",
       "      <td>S</td>\n",
       "    </tr>\n",
       "    <tr>\n",
       "      <td>3</td>\n",
       "      <td>4</td>\n",
       "      <td>1</td>\n",
       "      <td>1</td>\n",
       "      <td>Futrelle, Mrs. Jacques Heath (Lily May Peel)</td>\n",
       "      <td>female</td>\n",
       "      <td>35.0</td>\n",
       "      <td>1</td>\n",
       "      <td>0</td>\n",
       "      <td>113803</td>\n",
       "      <td>53.1000</td>\n",
       "      <td>C123</td>\n",
       "      <td>S</td>\n",
       "    </tr>\n",
       "    <tr>\n",
       "      <td>4</td>\n",
       "      <td>5</td>\n",
       "      <td>0</td>\n",
       "      <td>3</td>\n",
       "      <td>Allen, Mr. William Henry</td>\n",
       "      <td>male</td>\n",
       "      <td>35.0</td>\n",
       "      <td>0</td>\n",
       "      <td>0</td>\n",
       "      <td>373450</td>\n",
       "      <td>8.0500</td>\n",
       "      <td>NaN</td>\n",
       "      <td>S</td>\n",
       "    </tr>\n",
       "  </tbody>\n",
       "</table>\n",
       "</div>"
      ],
      "text/plain": [
       "   PassengerId  Survived  Pclass  \\\n",
       "0            1         0       3   \n",
       "1            2         1       1   \n",
       "2            3         1       3   \n",
       "3            4         1       1   \n",
       "4            5         0       3   \n",
       "\n",
       "                                                Name     Sex   Age  SibSp  \\\n",
       "0                            Braund, Mr. Owen Harris    male  22.0      1   \n",
       "1  Cumings, Mrs. John Bradley (Florence Briggs Th...  female  38.0      1   \n",
       "2                             Heikkinen, Miss. Laina  female  26.0      0   \n",
       "3       Futrelle, Mrs. Jacques Heath (Lily May Peel)  female  35.0      1   \n",
       "4                           Allen, Mr. William Henry    male  35.0      0   \n",
       "\n",
       "   Parch            Ticket     Fare Cabin Embarked  \n",
       "0      0         A/5 21171   7.2500   NaN        S  \n",
       "1      0          PC 17599  71.2833   C85        C  \n",
       "2      0  STON/O2. 3101282   7.9250   NaN        S  \n",
       "3      0            113803  53.1000  C123        S  \n",
       "4      0            373450   8.0500   NaN        S  "
      ]
     },
     "execution_count": 3,
     "metadata": {},
     "output_type": "execute_result"
    }
   ],
   "source": [
    "data = train.copy()\n",
    "data.head()"
   ]
  },
  {
   "cell_type": "markdown",
   "metadata": {},
   "source": [
    "Checking the dimension of the data we have"
   ]
  },
  {
   "cell_type": "code",
   "execution_count": 4,
   "metadata": {},
   "outputs": [
    {
     "data": {
      "text/plain": [
       "(891, 12)"
      ]
     },
     "execution_count": 4,
     "metadata": {},
     "output_type": "execute_result"
    }
   ],
   "source": [
    "# to know the dimension of my data\n",
    "data.shape"
   ]
  },
  {
   "cell_type": "markdown",
   "metadata": {},
   "source": [
    "# filling NAN, an removing rough columns"
   ]
  },
  {
   "cell_type": "code",
   "execution_count": 5,
   "metadata": {},
   "outputs": [
    {
     "name": "stdout",
     "output_type": "stream",
     "text": [
      "<class 'pandas.core.frame.DataFrame'>\n",
      "RangeIndex: 891 entries, 0 to 890\n",
      "Data columns (total 12 columns):\n",
      "PassengerId    891 non-null int64\n",
      "Survived       891 non-null int64\n",
      "Pclass         891 non-null int64\n",
      "Name           891 non-null object\n",
      "Sex            891 non-null object\n",
      "Age            714 non-null float64\n",
      "SibSp          891 non-null int64\n",
      "Parch          891 non-null int64\n",
      "Ticket         891 non-null object\n",
      "Fare           891 non-null float64\n",
      "Cabin          204 non-null object\n",
      "Embarked       889 non-null object\n",
      "dtypes: float64(2), int64(5), object(5)\n",
      "memory usage: 83.7+ KB\n"
     ]
    }
   ],
   "source": [
    "data.info()"
   ]
  },
  {
   "cell_type": "markdown",
   "metadata": {},
   "source": [
    "## Cabin"
   ]
  },
  {
   "cell_type": "code",
   "execution_count": 6,
   "metadata": {},
   "outputs": [],
   "source": [
    "data = data.drop(['Cabin'], axis = 1)\n",
    "#test_data = data.drop(['cabin'], axis = 1)"
   ]
  },
  {
   "cell_type": "code",
   "execution_count": 7,
   "metadata": {},
   "outputs": [],
   "source": [
    "test = test.drop(['Cabin'], axis =1)"
   ]
  },
  {
   "cell_type": "code",
   "execution_count": 8,
   "metadata": {},
   "outputs": [
    {
     "name": "stdout",
     "output_type": "stream",
     "text": [
      "<class 'pandas.core.frame.DataFrame'>\n",
      "RangeIndex: 891 entries, 0 to 890\n",
      "Data columns (total 11 columns):\n",
      "PassengerId    891 non-null int64\n",
      "Survived       891 non-null int64\n",
      "Pclass         891 non-null int64\n",
      "Name           891 non-null object\n",
      "Sex            891 non-null object\n",
      "Age            714 non-null float64\n",
      "SibSp          891 non-null int64\n",
      "Parch          891 non-null int64\n",
      "Ticket         891 non-null object\n",
      "Fare           891 non-null float64\n",
      "Embarked       889 non-null object\n",
      "dtypes: float64(2), int64(5), object(4)\n",
      "memory usage: 76.7+ KB\n"
     ]
    }
   ],
   "source": [
    "data.info()"
   ]
  },
  {
   "cell_type": "markdown",
   "metadata": {},
   "source": [
    "## Age"
   ]
  },
  {
   "cell_type": "code",
   "execution_count": 9,
   "metadata": {},
   "outputs": [
    {
     "data": {
      "text/plain": [
       "0    24.0\n",
       "dtype: float64"
      ]
     },
     "execution_count": 9,
     "metadata": {},
     "output_type": "execute_result"
    }
   ],
   "source": [
    "data['Age'].mode()"
   ]
  },
  {
   "cell_type": "code",
   "execution_count": 10,
   "metadata": {},
   "outputs": [],
   "source": [
    "data['Age'] = data['Age'].fillna(data['Age'].mode()[0])\n",
    "test['Age'] = test['Age'].fillna(test['Age'].mode()[0])"
   ]
  },
  {
   "cell_type": "code",
   "execution_count": 11,
   "metadata": {},
   "outputs": [
    {
     "data": {
      "text/plain": [
       "(0.42, 80.0)"
      ]
     },
     "execution_count": 11,
     "metadata": {},
     "output_type": "execute_result"
    }
   ],
   "source": [
    "data['Age'].min(), data['Age'].max()"
   ]
  },
  {
   "cell_type": "markdown",
   "metadata": {},
   "source": [
    "### Binning Age\n",
    "\n"
   ]
  },
  {
   "cell_type": "code",
   "execution_count": 12,
   "metadata": {},
   "outputs": [
    {
     "name": "stdout",
     "output_type": "stream",
     "text": [
      "{'0': (0, 16), '1': (16, 32), '2': (32, 48), '3': (48, 64), '4': (64, 80), '5': (80, 82)}\n"
     ]
    }
   ],
   "source": [
    "def bin_age(data, min_val, max_val, range_val):\n",
    "    data_copy = data.copy()\n",
    "    range_of_vals = int(max_val+1 - min_val)\n",
    "    batch_value = int(range_of_vals/range_val)\n",
    "    dict_batch = {}\n",
    "    start, stop = 0,0\n",
    "    for i,j in enumerate(range(0,range_of_vals, batch_value)):\n",
    "        stop = start + batch_value\n",
    "        dict_batch[str(i)] = (start,stop)\n",
    "        start = stop\n",
    "        \n",
    "        if stop <= range_of_vals:\n",
    "            pass\n",
    "        else:\n",
    "            start = stop - batch_value\n",
    "            stop = int(max_val) + 1\n",
    "            \n",
    "            dict_batch[str(i)] = (start,stop)\n",
    "    print(dict_batch)       \n",
    "    bin_out = []       \n",
    "    for k in data_copy:\n",
    "        out = [i for i,(start,stop) in zip(dict_batch.keys(), dict_batch.values()) if int(k) in range(start,stop)]\n",
    "        #print(k,out)\n",
    "        bin_out.append(int(out[0]))\n",
    "    return bin_out\n",
    "\n",
    "\n",
    "age_out = bin_age(data['Age'],0.42,81.0,5)"
   ]
  },
  {
   "cell_type": "code",
   "execution_count": 13,
   "metadata": {},
   "outputs": [
    {
     "name": "stdout",
     "output_type": "stream",
     "text": [
      "{'0': (0, 16), '1': (16, 32), '2': (32, 48), '3': (48, 64), '4': (64, 80), '5': (80, 82)}\n"
     ]
    }
   ],
   "source": [
    "test['Age'] = bin_age(test['Age'], 0.42, 81.0, 5)"
   ]
  },
  {
   "cell_type": "code",
   "execution_count": 14,
   "metadata": {},
   "outputs": [],
   "source": [
    "train_da = data.copy()\n",
    "train_da['Age_bin'] = age_out"
   ]
  },
  {
   "cell_type": "code",
   "execution_count": 15,
   "metadata": {},
   "outputs": [
    {
     "data": {
      "text/plain": [
       "(891, 12)"
      ]
     },
     "execution_count": 15,
     "metadata": {},
     "output_type": "execute_result"
    }
   ],
   "source": [
    "train_da.shape"
   ]
  },
  {
   "cell_type": "code",
   "execution_count": 16,
   "metadata": {},
   "outputs": [
    {
     "data": {
      "text/plain": [
       "array([0, 1, 2, 3, 4, 5])"
      ]
     },
     "execution_count": 16,
     "metadata": {},
     "output_type": "execute_result"
    }
   ],
   "source": [
    "np.unique(train_da['Age_bin'])"
   ]
  },
  {
   "cell_type": "code",
   "execution_count": 17,
   "metadata": {},
   "outputs": [
    {
     "data": {
      "text/plain": [
       "<matplotlib.axes._subplots.AxesSubplot at 0x7fd163906510>"
      ]
     },
     "execution_count": 17,
     "metadata": {},
     "output_type": "execute_result"
    },
    {
     "data": {
      "image/png": "[encoded data removed]",
      "text/plain": [
       "<Figure size 432x288 with 1 Axes>"
      ]
     },
     "metadata": {
      "needs_background": "light"
     },
     "output_type": "display_data"
    }
   ],
   "source": [
    "\n",
    "sns.countplot(x = 'Age_bin', hue = 'Survived', data = train_da)"
   ]
  },
  {
   "cell_type": "code",
   "execution_count": 18,
   "metadata": {},
   "outputs": [
    {
     "data": {
      "text/plain": [
       "0.7856341189674523"
      ]
     },
     "execution_count": 18,
     "metadata": {},
     "output_type": "execute_result"
    }
   ],
   "source": [
    "700/891"
   ]
  },
  {
   "cell_type": "markdown",
   "metadata": {},
   "source": [
    "on binning Age into a new column called Age_bin, we figured\n",
    "out that bin 1 and 2 takes almost 750 of the whole data. Now if we label encode the data such that all data points within 700 are giving more priority than the others, that implies\n",
    "we are giving the computer easy understanding to predict at least 78.5% of the data (swift pattern). So now can how our age to be transformed into binaries. What we are basically trying to do is to figure out age ranges who survived (bin 1 and 2) and then give them more priority/ chances of survival as long as they are within that age range.\n",
    "\n",
    "As soon as we build our model, our baseline model can't be less than 78.5%. Let's see how we can intuitively improve the model with some other forms of intuition below."
   ]
  },
  {
   "cell_type": "code",
   "execution_count": 19,
   "metadata": {},
   "outputs": [],
   "source": [
    "def tarn(k):\n",
    "    f = 0\n",
    "    if k == 0:\n",
    "        f = 0\n",
    "    elif k == 1:\n",
    "        f = 1\n",
    "    \n",
    "    elif k == 2:\n",
    "        f = 1\n",
    "    elif k == 3:\n",
    "        f = 0\n",
    "    elif k == 4:\n",
    "        f = 0\n",
    "    else:\n",
    "        f = 0\n",
    "    return f\n",
    "\n",
    "train_da['Age_bin'] = train_da['Age_bin'].apply(tarn)"
   ]
  },
  {
   "cell_type": "code",
   "execution_count": 20,
   "metadata": {},
   "outputs": [],
   "source": [
    "test['Age'] = test['Age'].apply(tarn)"
   ]
  },
  {
   "cell_type": "code",
   "execution_count": 21,
   "metadata": {},
   "outputs": [
    {
     "data": {
      "text/plain": [
       "array([0, 1])"
      ]
     },
     "execution_count": 21,
     "metadata": {},
     "output_type": "execute_result"
    }
   ],
   "source": [
    "np.unique(test['Age'])"
   ]
  },
  {
   "cell_type": "code",
   "execution_count": 22,
   "metadata": {},
   "outputs": [
    {
     "data": {
      "text/plain": [
       "array([0, 1])"
      ]
     },
     "execution_count": 22,
     "metadata": {},
     "output_type": "execute_result"
    }
   ],
   "source": [
    "np.unique(train_da['Age_bin'])"
   ]
  },
  {
   "cell_type": "code",
   "execution_count": 23,
   "metadata": {},
   "outputs": [
    {
     "data": {
      "text/plain": [
       "1    719\n",
       "0    172\n",
       "Name: Age_bin, dtype: int64"
      ]
     },
     "execution_count": 23,
     "metadata": {},
     "output_type": "execute_result"
    }
   ],
   "source": [
    "train_da['Age_bin'].value_counts()"
   ]
  },
  {
   "cell_type": "code",
   "execution_count": 24,
   "metadata": {},
   "outputs": [
    {
     "data": {
      "text/plain": [
       "<matplotlib.axes._subplots.AxesSubplot at 0x7fd1635ee650>"
      ]
     },
     "execution_count": 24,
     "metadata": {},
     "output_type": "execute_result"
    },
    {
     "data": {
      "image/png": "[encoded data removed]",
      "text/plain": [
       "<Figure size 432x288 with 1 Axes>"
      ]
     },
     "metadata": {
      "needs_background": "light"
     },
     "output_type": "display_data"
    }
   ],
   "source": [
    "sns.countplot(x = 'Age_bin', hue = 'Survived', data = train_da)"
   ]
  },
  {
   "cell_type": "markdown",
   "metadata": {},
   "source": [
    "from the image above, we can accurately predict 700 (survived and not-survived)\n",
    "if they belong to class 1, if not"
   ]
  },
  {
   "cell_type": "code",
   "execution_count": 25,
   "metadata": {},
   "outputs": [],
   "source": [
    "data = train_da.copy()"
   ]
  },
  {
   "cell_type": "code",
   "execution_count": 26,
   "metadata": {},
   "outputs": [],
   "source": [
    "data['Embarked'] = data['Embarked'].fillna(data['Embarked'].mode()[0])\n",
    "test['Embarked'] = test['Embarked'].fillna(test['Embarked'].mode()[0])"
   ]
  },
  {
   "cell_type": "code",
   "execution_count": 27,
   "metadata": {},
   "outputs": [],
   "source": [
    "data = data.drop('Age', axis= 1)"
   ]
  },
  {
   "cell_type": "code",
   "execution_count": 28,
   "metadata": {},
   "outputs": [
    {
     "name": "stdout",
     "output_type": "stream",
     "text": [
      "<class 'pandas.core.frame.DataFrame'>\n",
      "RangeIndex: 891 entries, 0 to 890\n",
      "Data columns (total 11 columns):\n",
      "PassengerId    891 non-null int64\n",
      "Survived       891 non-null int64\n",
      "Pclass         891 non-null int64\n",
      "Name           891 non-null object\n",
      "Sex            891 non-null object\n",
      "SibSp          891 non-null int64\n",
      "Parch          891 non-null int64\n",
      "Ticket         891 non-null object\n",
      "Fare           891 non-null float64\n",
      "Embarked       891 non-null object\n",
      "Age_bin        891 non-null int64\n",
      "dtypes: float64(1), int64(6), object(4)\n",
      "memory usage: 76.7+ KB\n"
     ]
    }
   ],
   "source": [
    "data.info()"
   ]
  },
  {
   "cell_type": "code",
   "execution_count": 29,
   "metadata": {},
   "outputs": [
    {
     "name": "stdout",
     "output_type": "stream",
     "text": [
      "<class 'pandas.core.frame.DataFrame'>\n",
      "RangeIndex: 418 entries, 0 to 417\n",
      "Data columns (total 10 columns):\n",
      "PassengerId    418 non-null int64\n",
      "Pclass         418 non-null int64\n",
      "Name           418 non-null object\n",
      "Sex            418 non-null object\n",
      "SibSp          418 non-null int64\n",
      "Parch          418 non-null int64\n",
      "Ticket         418 non-null object\n",
      "Fare           417 non-null float64\n",
      "Embarked       418 non-null object\n",
      "Age_bin        418 non-null int64\n",
      "dtypes: float64(1), int64(5), object(4)\n",
      "memory usage: 32.8+ KB\n"
     ]
    }
   ],
   "source": [
    "test['Age_bin'] = test['Age']\n",
    "test = test.drop('Age', axis = 1)\n",
    "test.info()"
   ]
  },
  {
   "cell_type": "code",
   "execution_count": 30,
   "metadata": {},
   "outputs": [
    {
     "data": {
      "text/plain": [
       "((418, 10), (891, 11))"
      ]
     },
     "execution_count": 30,
     "metadata": {},
     "output_type": "execute_result"
    }
   ],
   "source": [
    "test.shape, data.shape"
   ]
  },
  {
   "cell_type": "code",
   "execution_count": 31,
   "metadata": {},
   "outputs": [
    {
     "data": {
      "text/html": [
       "<div>\n",
       "<style scoped>\n",
       "    .dataframe tbody tr th:only-of-type {\n",
       "        vertical-align: middle;\n",
       "    }\n",
       "\n",
       "    .dataframe tbody tr th {\n",
       "        vertical-align: top;\n",
       "    }\n",
       "\n",
       "    .dataframe thead th {\n",
       "        text-align: right;\n",
       "    }\n",
       "</style>\n",
       "<table border=\"1\" class=\"dataframe\">\n",
       "  <thead>\n",
       "    <tr style=\"text-align: right;\">\n",
       "      <th></th>\n",
       "      <th>PassengerId</th>\n",
       "      <th>Survived</th>\n",
       "      <th>Pclass</th>\n",
       "      <th>SibSp</th>\n",
       "      <th>Parch</th>\n",
       "      <th>Fare</th>\n",
       "      <th>Age_bin</th>\n",
       "    </tr>\n",
       "  </thead>\n",
       "  <tbody>\n",
       "    <tr>\n",
       "      <td>count</td>\n",
       "      <td>891.000000</td>\n",
       "      <td>891.000000</td>\n",
       "      <td>891.000000</td>\n",
       "      <td>891.000000</td>\n",
       "      <td>891.000000</td>\n",
       "      <td>891.000000</td>\n",
       "      <td>891.000000</td>\n",
       "    </tr>\n",
       "    <tr>\n",
       "      <td>mean</td>\n",
       "      <td>446.000000</td>\n",
       "      <td>0.383838</td>\n",
       "      <td>2.308642</td>\n",
       "      <td>0.523008</td>\n",
       "      <td>0.381594</td>\n",
       "      <td>32.204208</td>\n",
       "      <td>0.806958</td>\n",
       "    </tr>\n",
       "    <tr>\n",
       "      <td>std</td>\n",
       "      <td>257.353842</td>\n",
       "      <td>0.486592</td>\n",
       "      <td>0.836071</td>\n",
       "      <td>1.102743</td>\n",
       "      <td>0.806057</td>\n",
       "      <td>49.693429</td>\n",
       "      <td>0.394907</td>\n",
       "    </tr>\n",
       "    <tr>\n",
       "      <td>min</td>\n",
       "      <td>1.000000</td>\n",
       "      <td>0.000000</td>\n",
       "      <td>1.000000</td>\n",
       "      <td>0.000000</td>\n",
       "      <td>0.000000</td>\n",
       "      <td>0.000000</td>\n",
       "      <td>0.000000</td>\n",
       "    </tr>\n",
       "    <tr>\n",
       "      <td>25%</td>\n",
       "      <td>223.500000</td>\n",
       "      <td>0.000000</td>\n",
       "      <td>2.000000</td>\n",
       "      <td>0.000000</td>\n",
       "      <td>0.000000</td>\n",
       "      <td>7.910400</td>\n",
       "      <td>1.000000</td>\n",
       "    </tr>\n",
       "    <tr>\n",
       "      <td>50%</td>\n",
       "      <td>446.000000</td>\n",
       "      <td>0.000000</td>\n",
       "      <td>3.000000</td>\n",
       "      <td>0.000000</td>\n",
       "      <td>0.000000</td>\n",
       "      <td>14.454200</td>\n",
       "      <td>1.000000</td>\n",
       "    </tr>\n",
       "    <tr>\n",
       "      <td>75%</td>\n",
       "      <td>668.500000</td>\n",
       "      <td>1.000000</td>\n",
       "      <td>3.000000</td>\n",
       "      <td>1.000000</td>\n",
       "      <td>0.000000</td>\n",
       "      <td>31.000000</td>\n",
       "      <td>1.000000</td>\n",
       "    </tr>\n",
       "    <tr>\n",
       "      <td>max</td>\n",
       "      <td>891.000000</td>\n",
       "      <td>1.000000</td>\n",
       "      <td>3.000000</td>\n",
       "      <td>8.000000</td>\n",
       "      <td>6.000000</td>\n",
       "      <td>512.329200</td>\n",
       "      <td>1.000000</td>\n",
       "    </tr>\n",
       "  </tbody>\n",
       "</table>\n",
       "</div>"
      ],
      "text/plain": [
       "       PassengerId    Survived      Pclass       SibSp       Parch  \\\n",
       "count   891.000000  891.000000  891.000000  891.000000  891.000000   \n",
       "mean    446.000000    0.383838    2.308642    0.523008    0.381594   \n",
       "std     257.353842    0.486592    0.836071    1.102743    0.806057   \n",
       "min       1.000000    0.000000    1.000000    0.000000    0.000000   \n",
       "25%     223.500000    0.000000    2.000000    0.000000    0.000000   \n",
       "50%     446.000000    0.000000    3.000000    0.000000    0.000000   \n",
       "75%     668.500000    1.000000    3.000000    1.000000    0.000000   \n",
       "max     891.000000    1.000000    3.000000    8.000000    6.000000   \n",
       "\n",
       "             Fare     Age_bin  \n",
       "count  891.000000  891.000000  \n",
       "mean    32.204208    0.806958  \n",
       "std     49.693429    0.394907  \n",
       "min      0.000000    0.000000  \n",
       "25%      7.910400    1.000000  \n",
       "50%     14.454200    1.000000  \n",
       "75%     31.000000    1.000000  \n",
       "max    512.329200    1.000000  "
      ]
     },
     "execution_count": 31,
     "metadata": {},
     "output_type": "execute_result"
    }
   ],
   "source": [
    "data.describe()"
   ]
  },
  {
   "cell_type": "markdown",
   "metadata": {},
   "source": [
    "## Embarked"
   ]
  },
  {
   "cell_type": "code",
   "execution_count": 32,
   "metadata": {},
   "outputs": [
    {
     "data": {
      "text/plain": [
       "<matplotlib.axes._subplots.AxesSubplot at 0x7fd16393cc90>"
      ]
     },
     "execution_count": 32,
     "metadata": {},
     "output_type": "execute_result"
    },
    {
     "data": {
      "image/png": "[encoded data removed]",
      "text/plain": [
       "<Figure size 432x288 with 1 Axes>"
      ]
     },
     "metadata": {
      "needs_background": "light"
     },
     "output_type": "display_data"
    }
   ],
   "source": [
    "sns.countplot(x = 'Embarked', hue = 'Survived', data = data)"
   ]
  },
  {
   "cell_type": "code",
   "execution_count": 33,
   "metadata": {},
   "outputs": [
    {
     "data": {
      "text/plain": [
       "array(['C', 'Q', 'S'], dtype=object)"
      ]
     },
     "execution_count": 33,
     "metadata": {},
     "output_type": "execute_result"
    }
   ],
   "source": [
    "np.unique(data['Embarked'])"
   ]
  },
  {
   "cell_type": "code",
   "execution_count": 34,
   "metadata": {},
   "outputs": [],
   "source": [
    "data['Embarked'][data['Embarked'] == 'S'] = 0\n",
    "data['Embarked'][data['Embarked'] == 'Q'] = 1\n",
    "data['Embarked'][data['Embarked'] == 'C'] = 1"
   ]
  },
  {
   "cell_type": "code",
   "execution_count": 35,
   "metadata": {},
   "outputs": [],
   "source": [
    "test['Embarked'][test['Embarked'] == 'S'] = 0\n",
    "test['Embarked'][test['Embarked'] == 'Q'] = 1\n",
    "test['Embarked'][test['Embarked'] == 'C'] = 1"
   ]
  },
  {
   "cell_type": "code",
   "execution_count": 36,
   "metadata": {},
   "outputs": [
    {
     "data": {
      "text/plain": [
       "<matplotlib.axes._subplots.AxesSubplot at 0x7fd16348ea10>"
      ]
     },
     "execution_count": 36,
     "metadata": {},
     "output_type": "execute_result"
    },
    {
     "data": {
      "image/png": "[encoded data removed]",
      "text/plain": [
       "<Figure size 432x288 with 1 Axes>"
      ]
     },
     "metadata": {
      "needs_background": "light"
     },
     "output_type": "display_data"
    }
   ],
   "source": [
    "import seaborn as sns\n",
    "import matplotlib.pyplot as plt\n",
    "sns.countplot(x = 'Embarked', hue = 'Survived', data = data)"
   ]
  },
  {
   "cell_type": "code",
   "execution_count": 37,
   "metadata": {},
   "outputs": [
    {
     "name": "stdout",
     "output_type": "stream",
     "text": [
      "<class 'pandas.core.frame.DataFrame'>\n",
      "RangeIndex: 891 entries, 0 to 890\n",
      "Data columns (total 11 columns):\n",
      "PassengerId    891 non-null int64\n",
      "Survived       891 non-null int64\n",
      "Pclass         891 non-null int64\n",
      "Name           891 non-null object\n",
      "Sex            891 non-null object\n",
      "SibSp          891 non-null int64\n",
      "Parch          891 non-null int64\n",
      "Ticket         891 non-null object\n",
      "Fare           891 non-null float64\n",
      "Embarked       891 non-null int64\n",
      "Age_bin        891 non-null int64\n",
      "dtypes: float64(1), int64(7), object(3)\n",
      "memory usage: 76.7+ KB\n"
     ]
    }
   ],
   "source": [
    "data['Embarked'] = data['Embarked'].astype('int')\n",
    "test['Embarked'] = test['Embarked'].astype('int')\n",
    "\n",
    "data.info()"
   ]
  },
  {
   "cell_type": "markdown",
   "metadata": {},
   "source": [
    "# Encodings"
   ]
  },
  {
   "cell_type": "code",
   "execution_count": 38,
   "metadata": {},
   "outputs": [
    {
     "data": {
      "text/plain": [
       "Index(['PassengerId', 'Survived', 'Pclass', 'Name', 'Sex', 'SibSp', 'Parch',\n",
       "       'Ticket', 'Fare', 'Embarked', 'Age_bin'],\n",
       "      dtype='object')"
      ]
     },
     "execution_count": 38,
     "metadata": {},
     "output_type": "execute_result"
    }
   ],
   "source": [
    "data.columns"
   ]
  },
  {
   "cell_type": "code",
   "execution_count": 39,
   "metadata": {},
   "outputs": [],
   "source": [
    "data_names = data['Name']\n",
    "data = data.drop('Name', axis = 1)\n",
    "test = test.drop('Name', axis = 1)\n",
    "\n",
    "data_id = data['PassengerId']\n",
    "data = data.drop('PassengerId', axis = 1)\n",
    "test_id = test['PassengerId']\n",
    "test = test.drop('PassengerId', axis = 1)"
   ]
  },
  {
   "cell_type": "markdown",
   "metadata": {},
   "source": [
    "# PClass"
   ]
  },
  {
   "cell_type": "code",
   "execution_count": 40,
   "metadata": {},
   "outputs": [
    {
     "data": {
      "text/plain": [
       "3    491\n",
       "1    216\n",
       "2    184\n",
       "Name: Pclass, dtype: int64"
      ]
     },
     "execution_count": 40,
     "metadata": {},
     "output_type": "execute_result"
    }
   ],
   "source": [
    "data['Pclass'].value_counts()"
   ]
  },
  {
   "cell_type": "code",
   "execution_count": 41,
   "metadata": {},
   "outputs": [
    {
     "data": {
      "text/plain": [
       "<matplotlib.axes._subplots.AxesSubplot at 0x7fd16340b350>"
      ]
     },
     "execution_count": 41,
     "metadata": {},
     "output_type": "execute_result"
    },
    {
     "data": {
      "image/png": "[encoded data removed]",
      "text/plain": [
       "<Figure size 432x288 with 1 Axes>"
      ]
     },
     "metadata": {
      "needs_background": "light"
     },
     "output_type": "display_data"
    }
   ],
   "source": [
    "sns.countplot(x = 'Pclass', hue = 'Survived', data = data)"
   ]
  },
  {
   "cell_type": "code",
   "execution_count": 42,
   "metadata": {},
   "outputs": [],
   "source": [
    "data['Pclass'][data['Pclass']  == 3] = 0\n",
    "data['Pclass'][data['Pclass']  == 2] = 1\n",
    "data['Pclass'][data['Pclass']  == 1] = 1\n",
    "\n",
    "data['Pclass'] = data['Pclass'] .astype(int)\n",
    "\n",
    "test['Pclass'][test['Pclass']  == 3] = 0\n",
    "test['Pclass'][test['Pclass']  == 2] = 1\n",
    "test['Pclass'][test['Pclass']  == 1] = 1\n",
    "\n",
    "test['Pclass'] = test['Pclass'] .astype(int)"
   ]
  },
  {
   "cell_type": "code",
   "execution_count": 43,
   "metadata": {},
   "outputs": [
    {
     "data": {
      "text/plain": [
       "<matplotlib.axes._subplots.AxesSubplot at 0x7fd16336bc90>"
      ]
     },
     "execution_count": 43,
     "metadata": {},
     "output_type": "execute_result"
    },
    {
     "data": {
      "image/png": "[encoded data removed]",
      "text/plain": [
       "<Figure size 432x288 with 1 Axes>"
      ]
     },
     "metadata": {
      "needs_background": "light"
     },
     "output_type": "display_data"
    }
   ],
   "source": [
    "sns.countplot(x = 'Pclass', hue = 'Survived', data = data)"
   ]
  },
  {
   "cell_type": "code",
   "execution_count": 44,
   "metadata": {},
   "outputs": [
    {
     "name": "stdout",
     "output_type": "stream",
     "text": [
      "<class 'pandas.core.frame.DataFrame'>\n",
      "RangeIndex: 891 entries, 0 to 890\n",
      "Data columns (total 9 columns):\n",
      "Survived    891 non-null int64\n",
      "Pclass      891 non-null int64\n",
      "Sex         891 non-null object\n",
      "SibSp       891 non-null int64\n",
      "Parch       891 non-null int64\n",
      "Ticket      891 non-null object\n",
      "Fare        891 non-null float64\n",
      "Embarked    891 non-null int64\n",
      "Age_bin     891 non-null int64\n",
      "dtypes: float64(1), int64(6), object(2)\n",
      "memory usage: 62.8+ KB\n"
     ]
    }
   ],
   "source": [
    "data.info()"
   ]
  },
  {
   "cell_type": "markdown",
   "metadata": {},
   "source": [
    "# SibSp"
   ]
  },
  {
   "cell_type": "code",
   "execution_count": 45,
   "metadata": {},
   "outputs": [
    {
     "data": {
      "text/plain": [
       "<matplotlib.axes._subplots.AxesSubplot at 0x7fd1633563d0>"
      ]
     },
     "execution_count": 45,
     "metadata": {},
     "output_type": "execute_result"
    },
    {
     "data": {
      "image/png": "[encoded data removed]",
      "text/plain": [
       "<Figure size 432x288 with 1 Axes>"
      ]
     },
     "metadata": {
      "needs_background": "light"
     },
     "output_type": "display_data"
    }
   ],
   "source": [
    "sns.countplot(x = 'SibSp', hue = 'Survived', data = data)"
   ]
  },
  {
   "cell_type": "code",
   "execution_count": 46,
   "metadata": {},
   "outputs": [],
   "source": [
    "def enco(data):\n",
    "    if data == 0:\n",
    "        out = 0\n",
    "    elif data == 1:\n",
    "        out = 0\n",
    "    else:\n",
    "        out = 1\n",
    "    return out\n",
    "data['SibSp'] = data['SibSp'].apply(enco)\n",
    "\n",
    "test['SibSp'] = test['SibSp'].apply(enco)"
   ]
  },
  {
   "cell_type": "code",
   "execution_count": 47,
   "metadata": {},
   "outputs": [
    {
     "data": {
      "text/plain": [
       "<matplotlib.axes._subplots.AxesSubplot at 0x7fd163283450>"
      ]
     },
     "execution_count": 47,
     "metadata": {},
     "output_type": "execute_result"
    },
    {
     "data": {
      "image/png": "[encoded data removed]",
      "text/plain": [
       "<Figure size 432x288 with 1 Axes>"
      ]
     },
     "metadata": {
      "needs_background": "light"
     },
     "output_type": "display_data"
    }
   ],
   "source": [
    "sns.countplot(x = 'SibSp', hue = 'Survived', data = data)"
   ]
  },
  {
   "cell_type": "code",
   "execution_count": 48,
   "metadata": {},
   "outputs": [
    {
     "name": "stdout",
     "output_type": "stream",
     "text": [
      "<class 'pandas.core.frame.DataFrame'>\n",
      "RangeIndex: 891 entries, 0 to 890\n",
      "Data columns (total 10 columns):\n",
      "Survived      891 non-null int64\n",
      "Pclass        891 non-null int64\n",
      "SibSp         891 non-null int64\n",
      "Parch         891 non-null int64\n",
      "Fare          891 non-null float64\n",
      "Embarked      891 non-null int64\n",
      "Sex_female    891 non-null uint8\n",
      "Sex_male      891 non-null uint8\n",
      "Age_bin_0     891 non-null uint8\n",
      "Age_bin_1     891 non-null uint8\n",
      "dtypes: float64(1), int64(5), uint8(4)\n",
      "memory usage: 45.4 KB\n"
     ]
    }
   ],
   "source": [
    "data = data.drop('Ticket', axis = 1)\n",
    "test = test.drop('Ticket', axis = 1)\n",
    "data = pd.get_dummies(data, columns = ['Sex', 'Age_bin'])\n",
    "test = pd.get_dummies(test, columns = ['Sex', 'Age_bin'])\n",
    "data.info()"
   ]
  },
  {
   "cell_type": "markdown",
   "metadata": {},
   "source": [
    "## Parch"
   ]
  },
  {
   "cell_type": "code",
   "execution_count": 49,
   "metadata": {},
   "outputs": [
    {
     "data": {
      "text/plain": [
       "<matplotlib.axes._subplots.AxesSubplot at 0x7fd1639f1690>"
      ]
     },
     "execution_count": 49,
     "metadata": {},
     "output_type": "execute_result"
    },
    {
     "data": {
      "image/png": "[encoded data removed]",
      "text/plain": [
       "<Figure size 432x288 with 1 Axes>"
      ]
     },
     "metadata": {
      "needs_background": "light"
     },
     "output_type": "display_data"
    }
   ],
   "source": [
    "sns.countplot(x = 'Parch', hue = 'Survived', data = data)"
   ]
  },
  {
   "cell_type": "code",
   "execution_count": 50,
   "metadata": {},
   "outputs": [],
   "source": [
    "def parch_enco(data):\n",
    "    if data == 0:\n",
    "        out = 0\n",
    "    else:\n",
    "        out = 1\n",
    "    return out\n",
    "data['Parch'] = data['Parch'].apply(parch_enco)\n",
    "\n",
    "test['Parch'] = test['Parch'].apply(parch_enco)"
   ]
  },
  {
   "cell_type": "code",
   "execution_count": 51,
   "metadata": {},
   "outputs": [
    {
     "data": {
      "text/plain": [
       "<matplotlib.axes._subplots.AxesSubplot at 0x7fd1631842d0>"
      ]
     },
     "execution_count": 51,
     "metadata": {},
     "output_type": "execute_result"
    },
    {
     "data": {
      "image/png": "[encoded data removed]",
      "text/plain": [
       "<Figure size 432x288 with 1 Axes>"
      ]
     },
     "metadata": {
      "needs_background": "light"
     },
     "output_type": "display_data"
    }
   ],
   "source": [
    "sns.countplot(x = 'Parch', hue = 'Survived', data = data)"
   ]
  },
  {
   "cell_type": "markdown",
   "metadata": {},
   "source": [
    "# fare"
   ]
  },
  {
   "cell_type": "code",
   "execution_count": 52,
   "metadata": {},
   "outputs": [
    {
     "data": {
      "text/plain": [
       "8.05"
      ]
     },
     "execution_count": 52,
     "metadata": {},
     "output_type": "execute_result"
    }
   ],
   "source": [
    "data['Fare'].mode()[0]"
   ]
  },
  {
   "cell_type": "code",
   "execution_count": 53,
   "metadata": {},
   "outputs": [
    {
     "data": {
      "text/plain": [
       "<matplotlib.axes._subplots.AxesSubplot at 0x7fd1630e1bd0>"
      ]
     },
     "execution_count": 53,
     "metadata": {},
     "output_type": "execute_result"
    },
    {
     "data": {
      "image/png": "[encoded data removed]",
      "text/plain": [
       "<Figure size 432x288 with 1 Axes>"
      ]
     },
     "metadata": {
      "needs_background": "light"
     },
     "output_type": "display_data"
    }
   ],
   "source": [
    "sns.distplot(data['Fare'])"
   ]
  },
  {
   "cell_type": "code",
   "execution_count": 54,
   "metadata": {},
   "outputs": [],
   "source": [
    "def fare_bin(x):\n",
    "    out = 0\n",
    "    if x > 0 and x<= 80:\n",
    "        out = 0\n",
    "    else:\n",
    "        out = 1\n",
    "    return out\n",
    "data['Fare'] = data['Fare'].apply(fare_bin)\n",
    "test['Fare'] = test['Fare'].apply(fare_bin)\n",
    "data['Fare'] = data['Fare'].astype(int)\n",
    "test['Fare'] = test['Fare'].astype(int)"
   ]
  },
  {
   "cell_type": "code",
   "execution_count": 55,
   "metadata": {},
   "outputs": [
    {
     "data": {
      "text/plain": [
       "<matplotlib.axes._subplots.AxesSubplot at 0x7fd1630eae50>"
      ]
     },
     "execution_count": 55,
     "metadata": {},
     "output_type": "execute_result"
    },
    {
     "data": {
      "image/png": "[encoded data removed]",
      "text/plain": [
       "<Figure size 432x288 with 1 Axes>"
      ]
     },
     "metadata": {
      "needs_background": "light"
     },
     "output_type": "display_data"
    }
   ],
   "source": [
    "sns.countplot(x = 'Fare', hue = 'Survived', data = data)"
   ]
  },
  {
   "cell_type": "code",
   "execution_count": 56,
   "metadata": {},
   "outputs": [
    {
     "name": "stdout",
     "output_type": "stream",
     "text": [
      "<class 'pandas.core.frame.DataFrame'>\n",
      "RangeIndex: 891 entries, 0 to 890\n",
      "Data columns (total 10 columns):\n",
      "Survived      891 non-null int64\n",
      "Pclass        891 non-null int64\n",
      "SibSp         891 non-null int64\n",
      "Parch         891 non-null int64\n",
      "Fare          891 non-null int64\n",
      "Embarked      891 non-null int64\n",
      "Sex_female    891 non-null uint8\n",
      "Sex_male      891 non-null uint8\n",
      "Age_bin_0     891 non-null uint8\n",
      "Age_bin_1     891 non-null uint8\n",
      "dtypes: int64(6), uint8(4)\n",
      "memory usage: 45.4 KB\n"
     ]
    }
   ],
   "source": [
    "data.info()"
   ]
  },
  {
   "cell_type": "code",
   "execution_count": 57,
   "metadata": {},
   "outputs": [
    {
     "name": "stdout",
     "output_type": "stream",
     "text": [
      "<class 'pandas.core.frame.DataFrame'>\n",
      "RangeIndex: 418 entries, 0 to 417\n",
      "Data columns (total 9 columns):\n",
      "Pclass        418 non-null int64\n",
      "SibSp         418 non-null int64\n",
      "Parch         418 non-null int64\n",
      "Fare          418 non-null int64\n",
      "Embarked      418 non-null int64\n",
      "Sex_female    418 non-null uint8\n",
      "Sex_male      418 non-null uint8\n",
      "Age_bin_0     418 non-null uint8\n",
      "Age_bin_1     418 non-null uint8\n",
      "dtypes: int64(5), uint8(4)\n",
      "memory usage: 18.1 KB\n"
     ]
    }
   ],
   "source": [
    "test.info()"
   ]
  },
  {
   "cell_type": "code",
   "execution_count": 58,
   "metadata": {},
   "outputs": [
    {
     "data": {
      "text/plain": [
       "((891, 10), (418, 9))"
      ]
     },
     "execution_count": 58,
     "metadata": {},
     "output_type": "execute_result"
    }
   ],
   "source": [
    "data.shape, test.shape"
   ]
  },
  {
   "cell_type": "markdown",
   "metadata": {},
   "source": [
    "# modelling"
   ]
  },
  {
   "cell_type": "code",
   "execution_count": 59,
   "metadata": {},
   "outputs": [],
   "source": [
    "import sklearn\n",
    "from sklearn.model_selection import train_test_split\n",
    "from sklearn.linear_model import LogisticRegression\n",
    "from sklearn.ensemble import RandomForestClassifier\n",
    "from sklearn.ensemble import GradientBoostingClassifier\n",
    "from xgboost import XGBClassifier"
   ]
  },
  {
   "cell_type": "code",
   "execution_count": 60,
   "metadata": {},
   "outputs": [],
   "source": [
    "y = data['Survived']\n",
    "x = data.drop('Survived', axis = 1)\n",
    "x_train, x_test, y_train, y_test = train_test_split(x,y, test_size = 0.2, random_state = 42)\n"
   ]
  },
  {
   "cell_type": "code",
   "execution_count": 61,
   "metadata": {},
   "outputs": [
    {
     "data": {
      "text/plain": [
       "0.7949438202247191"
      ]
     },
     "execution_count": 61,
     "metadata": {},
     "output_type": "execute_result"
    }
   ],
   "source": [
    "lr = LogisticRegression()\n",
    "lr.fit(x_train, y_train)\n",
    "lr.score(x_train, y_train)"
   ]
  },
  {
   "cell_type": "code",
   "execution_count": 62,
   "metadata": {},
   "outputs": [
    {
     "data": {
      "text/plain": [
       "0.8328651685393258"
      ]
     },
     "execution_count": 62,
     "metadata": {},
     "output_type": "execute_result"
    }
   ],
   "source": [
    "rand = RandomForestClassifier()\n",
    "rand.fit(x_train, y_train)\n",
    "rand.score(x_train, y_train)"
   ]
  },
  {
   "cell_type": "code",
   "execution_count": 63,
   "metadata": {},
   "outputs": [
    {
     "data": {
      "text/plain": [
       "0.7988826815642458"
      ]
     },
     "execution_count": 63,
     "metadata": {},
     "output_type": "execute_result"
    }
   ],
   "source": [
    "from sklearn.metrics import accuracy_score, f1_score, classification_report\n",
    "pred = rand.predict(x_test)\n",
    "accuracy_score(y_test, pred)"
   ]
  },
  {
   "cell_type": "code",
   "execution_count": 64,
   "metadata": {},
   "outputs": [
    {
     "data": {
      "text/plain": [
       "0.7988826815642458"
      ]
     },
     "execution_count": 64,
     "metadata": {},
     "output_type": "execute_result"
    }
   ],
   "source": [
    "from sklearn.metrics import accuracy_score, f1_score, classification_report\n",
    "rand_pred = rand.predict(x_test)\n",
    "accuracy_score(rand_pred, y_test)"
   ]
  },
  {
   "cell_type": "code",
   "execution_count": 65,
   "metadata": {},
   "outputs": [
    {
     "data": {
      "text/plain": [
       "0.7464788732394366"
      ]
     },
     "execution_count": 65,
     "metadata": {},
     "output_type": "execute_result"
    }
   ],
   "source": [
    "f1_score(rand_pred, y_test)"
   ]
  },
  {
   "cell_type": "code",
   "execution_count": 66,
   "metadata": {},
   "outputs": [],
   "source": [
    "#grad_pred = grad.predict(x_test)\n",
    "#accuracy_score(grad_pred, y_test)"
   ]
  },
  {
   "cell_type": "code",
   "execution_count": 67,
   "metadata": {},
   "outputs": [],
   "source": [
    "#f1_score(grad_pred, y_test)"
   ]
  },
  {
   "cell_type": "code",
   "execution_count": 68,
   "metadata": {},
   "outputs": [],
   "source": [
    "pred = lr.predict(x_test)\n",
    "from sklearn.metrics import accuracy_score, f1_score, classification_report"
   ]
  },
  {
   "cell_type": "code",
   "execution_count": 69,
   "metadata": {},
   "outputs": [],
   "source": [
    "#classification_report(grad_pred, y_test)"
   ]
  },
  {
   "cell_type": "code",
   "execution_count": 70,
   "metadata": {},
   "outputs": [
    {
     "data": {
      "text/plain": [
       "0.7653631284916201"
      ]
     },
     "execution_count": 70,
     "metadata": {},
     "output_type": "execute_result"
    }
   ],
   "source": [
    "accuracy_score(pred, y_test)"
   ]
  },
  {
   "cell_type": "code",
   "execution_count": 71,
   "metadata": {},
   "outputs": [
    {
     "data": {
      "text/plain": [
       "0.7162162162162162"
      ]
     },
     "execution_count": 71,
     "metadata": {},
     "output_type": "execute_result"
    }
   ],
   "source": [
    "f1_score(pred, y_test)"
   ]
  },
  {
   "cell_type": "code",
   "execution_count": 72,
   "metadata": {},
   "outputs": [],
   "source": [
    "#test['Fare'].mode()\n",
    "\n",
    "test['Fare'] = test['Fare'].fillna(test['Fare'].mode()[0])"
   ]
  },
  {
   "cell_type": "code",
   "execution_count": 73,
   "metadata": {},
   "outputs": [
    {
     "name": "stdout",
     "output_type": "stream",
     "text": [
      "train score:  0.8300561797752809\n",
      "Final prediction score: [0.79329609]\n"
     ]
    }
   ],
   "source": [
    "# \n",
    "model_xgb = XGBClassifier(random_state=0, n_jobs=-1, learning_rate=0.1, \n",
    "                      n_estimators=50, max_depth=5)\n",
    "\n",
    "    \n",
    "model = model_xgb.fit(x_train, y_train)\n",
    "y_pred = model_xgb.predict(x_test)\n",
    "print('train score: ', model_xgb.score(x_train, y_train))\n",
    "print('Final prediction score: [%.8f]' % accuracy_score(y_test, y_pred))\n"
   ]
  },
  {
   "cell_type": "code",
   "execution_count": 74,
   "metadata": {},
   "outputs": [
    {
     "name": "stdout",
     "output_type": "stream",
     "text": [
      "train score:  0.8328651685393258\n",
      "Final prediction score: [0.80446927]\n"
     ]
    }
   ],
   "source": [
    "model_grb = GradientBoostingClassifier(n_estimators = 60, max_depth = 7)\n",
    "model = model_grb.fit(x_train, y_train)\n",
    "y_pred = model_grb.predict(x_test)\n",
    "print('train score: ', model_grb.score(x_train, y_train))\n",
    "print('Final prediction score: [%.8f]' % accuracy_score(y_test, y_pred))\n"
   ]
  },
  {
   "cell_type": "code",
   "execution_count": 75,
   "metadata": {},
   "outputs": [
    {
     "name": "stdout",
     "output_type": "stream",
     "text": [
      "train score:  0.8328651685393258\n",
      "Final prediction score: [0.79888268]\n"
     ]
    }
   ],
   "source": [
    "model_rand = RandomForestClassifier(n_estimators = 50, max_depth = 10)\n",
    "model = model_rand.fit(x_train, y_train)\n",
    "y_pred = model_rand.predict(x_test)\n",
    "print('train score: ', model_rand.score(x_train, y_train))\n",
    "print('Final prediction score: [%.8f]' % accuracy_score(y_test, y_pred))\n"
   ]
  },
  {
   "cell_type": "markdown",
   "metadata": {},
   "source": [
    "# my prediction"
   ]
  },
  {
   "cell_type": "code",
   "execution_count": 76,
   "metadata": {},
   "outputs": [
    {
     "data": {
      "text/plain": [
       "((418, 9), (712, 9))"
      ]
     },
     "execution_count": 76,
     "metadata": {},
     "output_type": "execute_result"
    }
   ],
   "source": [
    "test.shape, x_train.shape"
   ]
  },
  {
   "cell_type": "code",
   "execution_count": 77,
   "metadata": {},
   "outputs": [],
   "source": [
    "prediction= model_grb.predict(test)"
   ]
  },
  {
   "cell_type": "code",
   "execution_count": 78,
   "metadata": {},
   "outputs": [
    {
     "data": {
      "text/plain": [
       "(418, 418)"
      ]
     },
     "execution_count": 78,
     "metadata": {},
     "output_type": "execute_result"
    }
   ],
   "source": [
    "len(test_id), len(prediction)"
   ]
  },
  {
   "cell_type": "code",
   "execution_count": 79,
   "metadata": {},
   "outputs": [],
   "source": [
    "frame_dict = {}\n",
    "frame_dict['PassengerId'] = test_id\n",
    "frame_dict['Survived'] = prediction"
   ]
  },
  {
   "cell_type": "code",
   "execution_count": 80,
   "metadata": {},
   "outputs": [
    {
     "data": {
      "text/html": [
       "<div>\n",
       "<style scoped>\n",
       "    .dataframe tbody tr th:only-of-type {\n",
       "        vertical-align: middle;\n",
       "    }\n",
       "\n",
       "    .dataframe tbody tr th {\n",
       "        vertical-align: top;\n",
       "    }\n",
       "\n",
       "    .dataframe thead th {\n",
       "        text-align: right;\n",
       "    }\n",
       "</style>\n",
       "<table border=\"1\" class=\"dataframe\">\n",
       "  <thead>\n",
       "    <tr style=\"text-align: right;\">\n",
       "      <th></th>\n",
       "      <th>PassengerId</th>\n",
       "      <th>Survived</th>\n",
       "    </tr>\n",
       "  </thead>\n",
       "  <tbody>\n",
       "    <tr>\n",
       "      <td>0</td>\n",
       "      <td>892</td>\n",
       "      <td>0</td>\n",
       "    </tr>\n",
       "    <tr>\n",
       "      <td>1</td>\n",
       "      <td>893</td>\n",
       "      <td>0</td>\n",
       "    </tr>\n",
       "    <tr>\n",
       "      <td>2</td>\n",
       "      <td>894</td>\n",
       "      <td>0</td>\n",
       "    </tr>\n",
       "    <tr>\n",
       "      <td>3</td>\n",
       "      <td>895</td>\n",
       "      <td>0</td>\n",
       "    </tr>\n",
       "    <tr>\n",
       "      <td>4</td>\n",
       "      <td>896</td>\n",
       "      <td>0</td>\n",
       "    </tr>\n",
       "  </tbody>\n",
       "</table>\n",
       "</div>"
      ],
      "text/plain": [
       "   PassengerId  Survived\n",
       "0          892         0\n",
       "1          893         0\n",
       "2          894         0\n",
       "3          895         0\n",
       "4          896         0"
      ]
     },
     "execution_count": 80,
     "metadata": {},
     "output_type": "execute_result"
    }
   ],
   "source": [
    "frame = pd.DataFrame(frame_dict)\n",
    "frame.head()"
   ]
  },
  {
   "cell_type": "code",
   "execution_count": 81,
   "metadata": {},
   "outputs": [],
   "source": [
    "frame.to_csv('my_submission6.csv', index = False)"
   ]
  },
  {
   "cell_type": "markdown",
   "metadata": {},
   "source": [
    "# Neural Networks with Tensorflow"
   ]
  },
  {
   "cell_type": "code",
   "execution_count": 82,
   "metadata": {},
   "outputs": [
    {
     "data": {
      "text/plain": [
       "((712, 9), (712,))"
      ]
     },
     "execution_count": 82,
     "metadata": {},
     "output_type": "execute_result"
    }
   ],
   "source": [
    "x_train.shape, y_train.shape"
   ]
  },
  {
   "cell_type": "code",
   "execution_count": 83,
   "metadata": {},
   "outputs": [
    {
     "data": {
      "text/plain": [
       "(712, 2)"
      ]
     },
     "execution_count": 83,
     "metadata": {},
     "output_type": "execute_result"
    }
   ],
   "source": [
    "def to_categorical(y):\n",
    "    feed = {'y':y}\n",
    "    frame = pd.DataFrame(feed)\n",
    "    return pd.get_dummies(frame, columns = ['y'])\n",
    "\n",
    "y_trial = to_categorical(y_train)\n",
    "y_trial.shape"
   ]
  },
  {
   "cell_type": "code",
   "execution_count": 84,
   "metadata": {},
   "outputs": [],
   "source": [
    "import tensorflow as tf\n",
    "\n",
    "import tensorflow.compat.v1 as tf\n",
    "tf.disable_eager_execution()"
   ]
  },
  {
   "cell_type": "code",
   "execution_count": 85,
   "metadata": {},
   "outputs": [],
   "source": [
    "X = tf.placeholder(tf.float32, shape = (None, 9), name = 'x')\n",
    "y = tf.placeholder(tf.float32, shape = (None,2), name = 'y')\n",
    "\n",
    "batch_size = 100\n",
    "n_batches = int(np.ceil(712/batch_size))\n",
    "\n",
    "def fetch_batch(batch_index):\n",
    "    if batch_index < n_batches-1:\n",
    "        start = batch_index * batch_size\n",
    "        stop = batch_size + start\n",
    "        x_batch = x_train[start:stop]\n",
    "        y_batch = y_train[start:stop]\n",
    "        \n",
    "    else:\n",
    "        start = batch_index* batch_size\n",
    "        x_batch = x_train[start:]\n",
    "        y_batch = y_train[start:]\n",
    "    return x_batch, y_batch\n",
    "\n",
    "a,b = fetch_batch(7)"
   ]
  },
  {
   "cell_type": "code",
   "execution_count": 86,
   "metadata": {},
   "outputs": [],
   "source": [
    "n_inputs = 9\n",
    "h1 = 100\n",
    "h2 = 300\n",
    "n_output = 2"
   ]
  },
  {
   "cell_type": "code",
   "execution_count": 87,
   "metadata": {},
   "outputs": [
    {
     "name": "stdout",
     "output_type": "stream",
     "text": [
      "WARNING:tensorflow:From /home/odemakinde/anaconda3/lib/python3.7/site-packages/tensorflow_core/python/ops/resource_variable_ops.py:1630: calling BaseResourceVariable.__init__ (from tensorflow.python.ops.resource_variable_ops) with constraint is deprecated and will be removed in a future version.\n",
      "Instructions for updating:\n",
      "If using Keras pass *_constraint arguments to layers.\n"
     ]
    }
   ],
   "source": [
    "def neuron_layer(X, n_neurons, name, activation = None):\n",
    "    with tf.name_scope(name):\n",
    "        n_inputs = int(X.get_shape()[1])\n",
    "        stddev = 2/ np.sqrt(n_inputs)\n",
    "        init = tf.truncated_normal((n_inputs, n_neurons), stddev = stddev)\n",
    "        W = tf.Variable(init, name = 'weights')\n",
    "        b = tf.Variable(tf.zeros([n_neurons]), name = 'biases')\n",
    "        z = tf.matmul(X, W) + b\n",
    "        \n",
    "        if activation == 'relu':\n",
    "            return tf.nn.relu(z)\n",
    "        \n",
    "        else:\n",
    "            return z\n",
    "        \n",
    "with tf.name_scope('NeuralNet'):\n",
    "    hidden1 = neuron_layer(X, h1, 'hidden1', activation = 'relu')\n",
    "    hidden2 = neuron_layer(hidden1, h2, 'hidden2', activation = 'relu')\n",
    "    logits = neuron_layer(hidden2, n_output, 'outputs')\n",
    "\n",
    "    \n",
    "with tf.name_scope('loss'):\n",
    "    xentropy = tf.nn.softmax_cross_entropy_with_logits_v2(labels = y, logits = logits)\n",
    "    loss = tf.reduce_mean(xentropy, name = 'loss')\n",
    "    \n",
    "    \n",
    "learning_rate = 0.01\n",
    "\n",
    "with tf.name_scope('train'):\n",
    "    optimizer = tf.train.GradientDescentOptimizer(learning_rate = learning_rate)\n",
    "    training_op = optimizer.minimize(loss)"
   ]
  },
  {
   "cell_type": "code",
   "execution_count": 88,
   "metadata": {},
   "outputs": [],
   "source": [
    "with tf.name_scope('precision'):\n",
    "    #fn, fp, tn, tp\n",
    "    \n",
    "    prediction = tf.argmax(logits, 1)\n",
    "    actual = tf.argmax(y,1)\n",
    "    \n",
    "    TP = tf.math.count_nonzero(prediction * actual)\n",
    "    TN = tf.math.count_nonzero((prediction - 1) * (actual - 1))\n",
    "    FP = tf.math.count_nonzero(prediction * (actual - 1))\n",
    "    FN = tf.math.count_nonzero((prediction - 1) * actual)\n",
    "    \n",
    "    accuracy = (TP+TN)/(TP+TN+FP+FN)\n",
    "    precision = TP/(TP+FP)\n",
    "    Recall = TP/(TP+FN)\n",
    "    F1_Score = 2*(Recall * precision) / (Recall + precision)\n",
    "    init = tf.global_variables_initializer()\n",
    "    saver = tf.train.Saver()"
   ]
  },
  {
   "cell_type": "code",
   "execution_count": 89,
   "metadata": {},
   "outputs": [
    {
     "data": {
      "text/plain": [
       "(712, 2)"
      ]
     },
     "execution_count": 89,
     "metadata": {},
     "output_type": "execute_result"
    }
   ],
   "source": [
    "def one_hot(y):\n",
    "    frame = pd.DataFrame({'k':y.astype(np.float32)})\n",
    "    return pd.get_dummies(frame, columns = ['k'])\n",
    "\n",
    "y_t =  one_hot(y_train)\n",
    "y_t.shape"
   ]
  },
  {
   "cell_type": "code",
   "execution_count": 90,
   "metadata": {},
   "outputs": [
    {
     "name": "stdout",
     "output_type": "stream",
     "text": [
      "Epoch: 01 | Average Training Loss= 0.17 | F1_train_score:  0.70 | F1_test_score:  0.73\n",
      "Epoch: 11 | Average Training Loss= 0.11 | F1_train_score:  0.72 | F1_test_score:  0.72\n",
      "Model fit complete.\n",
      "Final Training f1_score: 0.72\n",
      "Final Validation f1_score: 0.72\n"
     ]
    }
   ],
   "source": [
    "n_epochs = 20\n",
    "batch_size = 50\n",
    "with tf.Session() as sess:\n",
    "    init.run()\n",
    "    max_acc=0\n",
    "    acc_going_down=0\n",
    "    for epoch in range(n_epochs):\n",
    "        batch_step=0\n",
    "        avg_loss = 0\n",
    "        total_loss= 0\n",
    "        total_batch = int(x_train.shape[0]/batch_size)\n",
    "\n",
    "        for batch_index in range(total_batch):\n",
    "            x_batch, y_batch = fetch_batch(batch_index)\n",
    "            _,l=sess.run([training_op,loss],feed_dict={X:x_batch, y:one_hot(y_batch)})\n",
    "            batch_step+=1\n",
    "            total_loss += l\n",
    "        if((epoch)%10==0):\n",
    "            avg_loss = total_loss/batch_size\n",
    "            print(\"Epoch:\", '%02d' % (epoch+1), \"| Average Training Loss= {:.2f}\".format(avg_loss), \n",
    "                  \"| F1_train_score:  {:.2f}\".format(F1_Score.eval({X: x_train, y: one_hot(y_train)})),\n",
    "                  \"| F1_test_score:  {:.2f}\".format(F1_Score.eval({X: x_test, y: one_hot(y_test)})))\n",
    "    print(\"Model fit complete.\")\n",
    "    print(\"Final Training f1_score: {:.2f}\".format(F1_Score.eval({X: x_train, y: one_hot(y_train)})))\n",
    "    print(\"Final Validation f1_score: {:.2f}\".format(F1_Score.eval({X: x_test, y: one_hot(y_test)})))"
   ]
  },
  {
   "cell_type": "code",
   "execution_count": 91,
   "metadata": {},
   "outputs": [
    {
     "name": "stdout",
     "output_type": "stream",
     "text": [
      "0 Training accuracy:  0.8241758241758241 Test accuracy:  0.7868852459016393\n",
      "1 Training accuracy:  0.8064516129032258 Test accuracy:  0.7777777777777778\n",
      "2 Training accuracy:  0.7755102040816326 Test accuracy:  0.765625\n",
      "3 Training accuracy:  0.7676767676767676 Test accuracy:  0.7692307692307693\n",
      "4 Training accuracy:  0.8426966292134831 Test accuracy:  0.7936507936507936\n",
      "5 Training accuracy:  0.8426966292134831 Test accuracy:  0.7936507936507936\n",
      "6 Training accuracy:  0.8426966292134831 Test accuracy:  0.7936507936507936\n",
      "7 Training accuracy:  0.8426966292134831 Test accuracy:  0.7936507936507936\n",
      "8 Training accuracy:  0.8426966292134831 Test accuracy:  0.7936507936507936\n",
      "9 Training accuracy:  0.8426966292134831 Test accuracy:  0.7936507936507936\n",
      "10 Training accuracy:  0.8409090909090909 Test accuracy:  0.7936507936507936\n",
      "11 Training accuracy:  0.8409090909090909 Test accuracy:  0.7936507936507936\n",
      "12 Training accuracy:  0.8409090909090909 Test accuracy:  0.7936507936507936\n",
      "13 Training accuracy:  0.8409090909090909 Test accuracy:  0.7936507936507936\n",
      "14 Training accuracy:  0.8409090909090909 Test accuracy:  0.7936507936507936\n",
      "15 Training accuracy:  0.8505747126436781 Test accuracy:  0.7936507936507936\n",
      "16 Training accuracy:  0.8505747126436781 Test accuracy:  0.7936507936507936\n",
      "17 Training accuracy:  0.8351648351648352 Test accuracy:  0.796875\n",
      "18 Training accuracy:  0.8333333333333334 Test accuracy:  0.7936507936507936\n",
      "19 Training accuracy:  0.8333333333333334 Test accuracy:  0.7936507936507936\n",
      "Model fit complete.\n",
      "Final Training Accuracy: 0.73\n",
      "Final Validation Accuracy: 0.73\n"
     ]
    }
   ],
   "source": [
    "n_epochs = 20\n",
    "with tf.Session() as sess:\n",
    "    sess.run(init)\n",
    "    \n",
    "    \n",
    "    for epoch in range(n_epochs):\n",
    "        for batch_index in range(n_batches):\n",
    "            x_batch, y_batch = fetch_batch(batch_index)\n",
    "            sess.run(training_op, feed_dict = {X:x_batch, y:one_hot(y_batch)})\n",
    "        acc_train = precision.eval(feed_dict = {X:x_batch, y:one_hot(y_batch)})\n",
    "        acc_test = precision.eval(feed_dict = {X:x_test, y:one_hot(y_test)})\n",
    "        \n",
    "        print(epoch, 'Training accuracy: ', acc_train, \"Test accuracy: \", acc_test)\n",
    "    print(\"Model fit complete.\")\n",
    "    print(\"Final Training Accuracy: {:.2f}\".format(F1_Score.eval({X: x_train, y: one_hot(y_train)})))\n",
    "    print(\"Final Validation Accuracy: {:.2f}\".format(F1_Score.eval({X: x_test, y: one_hot(y_test)})))\n",
    "    save_path = saver.save(sess, './my_model.ckpt')"
   ]
  },
  {
   "cell_type": "markdown",
   "metadata": {},
   "source": [
    "# keras in tensorflow"
   ]
  },
  {
   "cell_type": "code",
   "execution_count": 92,
   "metadata": {},
   "outputs": [
    {
     "name": "stderr",
     "output_type": "stream",
     "text": [
      "Using TensorFlow backend.\n"
     ]
    }
   ],
   "source": [
    "from keras.backend import clear_session\n",
    "clear_session()\n",
    "from tensorflow.compat.v1 import keras"
   ]
  },
  {
   "cell_type": "code",
   "execution_count": 94,
   "metadata": {},
   "outputs": [],
   "source": [
    "from tensorflow.keras import layers\n",
    "from tensorflow.keras import layers\n",
    "import datetime\n",
    "logdir = \"logs/scalars/\" + datetime.datetime.now().strftime(\"%Y%m%d-%H%M%S\")\n",
    "tensorboard_callback = keras.callbacks.TensorBoard(log_dir=logdir)\n",
    "\n",
    "\n",
    "model = tf.keras.Sequential()\n",
    "model.add(layers.Dense(400,input_shape=(9,), activation='relu'))\n",
    "model.add(layers.Dense(50, activation='relu'))\n",
    "model.add(layers.Dense(2, activation = 'softmax'))\n"
   ]
  },
  {
   "cell_type": "code",
   "execution_count": 97,
   "metadata": {},
   "outputs": [],
   "source": [
    "model.compile(optimizer=tf.train.GradientDescentOptimizer(learning_rate = 0.01),\n",
    "              loss=tf.keras.losses.CategoricalCrossentropy(from_logits=True),\n",
    "              metrics=['accuracy'])\n"
   ]
  },
  {
   "cell_type": "code",
   "execution_count": 99,
   "metadata": {},
   "outputs": [
    {
     "name": "stdout",
     "output_type": "stream",
     "text": [
      "Train on 712 samples, validate on 179 samples\n",
      "Epoch 1/50\n",
      "712/712 [==============================] - 0s 228us/sample - loss: 0.6860 - accuracy: 0.6110 - val_loss: 0.6832 - val_accuracy: 0.6034\n",
      "Epoch 2/50\n",
      "712/712 [==============================] - 0s 56us/sample - loss: 0.6778 - accuracy: 0.6292 - val_loss: 0.6766 - val_accuracy: 0.6034\n",
      "Epoch 3/50\n",
      "712/712 [==============================] - 0s 52us/sample - loss: 0.6707 - accuracy: 0.6236 - val_loss: 0.6710 - val_accuracy: 0.5922\n",
      "Epoch 4/50\n",
      "712/712 [==============================] - 0s 59us/sample - loss: 0.6644 - accuracy: 0.6236 - val_loss: 0.6658 - val_accuracy: 0.5922\n",
      "Epoch 5/50\n",
      "712/712 [==============================] - 0s 50us/sample - loss: 0.6586 - accuracy: 0.6222 - val_loss: 0.6609 - val_accuracy: 0.5922\n",
      "Epoch 6/50\n",
      "712/712 [==============================] - 0s 51us/sample - loss: 0.6533 - accuracy: 0.6236 - val_loss: 0.6563 - val_accuracy: 0.5922\n",
      "Epoch 7/50\n",
      "712/712 [==============================] - 0s 55us/sample - loss: 0.6484 - accuracy: 0.6292 - val_loss: 0.6518 - val_accuracy: 0.6480\n",
      "Epoch 8/50\n",
      "712/712 [==============================] - 0s 50us/sample - loss: 0.6437 - accuracy: 0.6545 - val_loss: 0.6475 - val_accuracy: 0.6480\n",
      "Epoch 9/50\n",
      "712/712 [==============================] - 0s 51us/sample - loss: 0.6392 - accuracy: 0.6657 - val_loss: 0.6435 - val_accuracy: 0.6480\n",
      "Epoch 10/50\n",
      "712/712 [==============================] - 0s 61us/sample - loss: 0.6349 - accuracy: 0.6742 - val_loss: 0.6395 - val_accuracy: 0.6480\n",
      "Epoch 11/50\n",
      "712/712 [==============================] - 0s 54us/sample - loss: 0.6306 - accuracy: 0.6770 - val_loss: 0.6355 - val_accuracy: 0.6536\n",
      "Epoch 12/50\n",
      "712/712 [==============================] - 0s 55us/sample - loss: 0.6266 - accuracy: 0.6826 - val_loss: 0.6319 - val_accuracy: 0.6592\n",
      "Epoch 13/50\n",
      "712/712 [==============================] - 0s 51us/sample - loss: 0.6227 - accuracy: 0.6896 - val_loss: 0.6283 - val_accuracy: 0.6927\n",
      "Epoch 14/50\n",
      "712/712 [==============================] - 0s 60us/sample - loss: 0.6189 - accuracy: 0.7416 - val_loss: 0.6247 - val_accuracy: 0.7709\n",
      "Epoch 15/50\n",
      "712/712 [==============================] - 0s 53us/sample - loss: 0.6151 - accuracy: 0.7893 - val_loss: 0.6210 - val_accuracy: 0.7765\n",
      "Epoch 16/50\n",
      "712/712 [==============================] - 0s 58us/sample - loss: 0.6113 - accuracy: 0.8006 - val_loss: 0.6171 - val_accuracy: 0.7765\n",
      "Epoch 17/50\n",
      "712/712 [==============================] - 0s 57us/sample - loss: 0.6076 - accuracy: 0.8006 - val_loss: 0.6136 - val_accuracy: 0.7765\n",
      "Epoch 18/50\n",
      "712/712 [==============================] - 0s 52us/sample - loss: 0.6040 - accuracy: 0.8020 - val_loss: 0.6100 - val_accuracy: 0.7542\n",
      "Epoch 19/50\n",
      "712/712 [==============================] - 0s 57us/sample - loss: 0.6004 - accuracy: 0.7949 - val_loss: 0.6064 - val_accuracy: 0.7598\n",
      "Epoch 20/50\n",
      "712/712 [==============================] - 0s 51us/sample - loss: 0.5970 - accuracy: 0.8006 - val_loss: 0.6031 - val_accuracy: 0.7933\n",
      "Epoch 21/50\n",
      "712/712 [==============================] - 0s 63us/sample - loss: 0.5936 - accuracy: 0.7978 - val_loss: 0.5997 - val_accuracy: 0.7877\n",
      "Epoch 22/50\n",
      "712/712 [==============================] - 0s 60us/sample - loss: 0.5904 - accuracy: 0.7949 - val_loss: 0.5961 - val_accuracy: 0.7821\n",
      "Epoch 23/50\n",
      "712/712 [==============================] - 0s 54us/sample - loss: 0.5870 - accuracy: 0.7879 - val_loss: 0.5931 - val_accuracy: 0.7821\n",
      "Epoch 24/50\n",
      "712/712 [==============================] - 0s 52us/sample - loss: 0.5838 - accuracy: 0.7879 - val_loss: 0.5901 - val_accuracy: 0.7821\n",
      "Epoch 25/50\n",
      "712/712 [==============================] - 0s 46us/sample - loss: 0.5808 - accuracy: 0.7879 - val_loss: 0.5873 - val_accuracy: 0.7821\n",
      "Epoch 26/50\n",
      "712/712 [==============================] - 0s 54us/sample - loss: 0.5779 - accuracy: 0.7879 - val_loss: 0.5842 - val_accuracy: 0.7821\n",
      "Epoch 27/50\n",
      "712/712 [==============================] - 0s 58us/sample - loss: 0.5750 - accuracy: 0.7879 - val_loss: 0.5814 - val_accuracy: 0.7821\n",
      "Epoch 28/50\n",
      "712/712 [==============================] - 0s 56us/sample - loss: 0.5722 - accuracy: 0.7879 - val_loss: 0.5787 - val_accuracy: 0.7821\n",
      "Epoch 29/50\n",
      "712/712 [==============================] - 0s 53us/sample - loss: 0.5696 - accuracy: 0.7879 - val_loss: 0.5762 - val_accuracy: 0.7821\n",
      "Epoch 30/50\n",
      "712/712 [==============================] - 0s 58us/sample - loss: 0.5670 - accuracy: 0.7879 - val_loss: 0.5737 - val_accuracy: 0.7821\n",
      "Epoch 31/50\n",
      "712/712 [==============================] - 0s 54us/sample - loss: 0.5645 - accuracy: 0.7879 - val_loss: 0.5712 - val_accuracy: 0.7821\n",
      "Epoch 32/50\n",
      "712/712 [==============================] - 0s 47us/sample - loss: 0.5621 - accuracy: 0.7879 - val_loss: 0.5688 - val_accuracy: 0.7821\n",
      "Epoch 33/50\n",
      "712/712 [==============================] - 0s 53us/sample - loss: 0.5599 - accuracy: 0.7879 - val_loss: 0.5668 - val_accuracy: 0.7821\n",
      "Epoch 34/50\n",
      "712/712 [==============================] - 0s 54us/sample - loss: 0.5578 - accuracy: 0.7879 - val_loss: 0.5646 - val_accuracy: 0.7821\n",
      "Epoch 35/50\n",
      "712/712 [==============================] - 0s 55us/sample - loss: 0.5557 - accuracy: 0.7879 - val_loss: 0.5628 - val_accuracy: 0.7821\n",
      "Epoch 36/50\n",
      "712/712 [==============================] - 0s 52us/sample - loss: 0.5537 - accuracy: 0.7879 - val_loss: 0.5609 - val_accuracy: 0.7821\n",
      "Epoch 37/50\n",
      "712/712 [==============================] - 0s 48us/sample - loss: 0.5517 - accuracy: 0.7879 - val_loss: 0.5591 - val_accuracy: 0.7821\n",
      "Epoch 38/50\n",
      "712/712 [==============================] - 0s 59us/sample - loss: 0.5499 - accuracy: 0.7879 - val_loss: 0.5574 - val_accuracy: 0.7821\n",
      "Epoch 39/50\n",
      "712/712 [==============================] - 0s 48us/sample - loss: 0.5481 - accuracy: 0.7879 - val_loss: 0.5558 - val_accuracy: 0.7821\n",
      "Epoch 40/50\n",
      "712/712 [==============================] - 0s 56us/sample - loss: 0.5466 - accuracy: 0.7879 - val_loss: 0.5543 - val_accuracy: 0.7821\n",
      "Epoch 41/50\n",
      "712/712 [==============================] - 0s 53us/sample - loss: 0.5449 - accuracy: 0.7879 - val_loss: 0.5530 - val_accuracy: 0.7821\n",
      "Epoch 42/50\n",
      "712/712 [==============================] - 0s 56us/sample - loss: 0.5434 - accuracy: 0.7879 - val_loss: 0.5517 - val_accuracy: 0.7821\n",
      "Epoch 43/50\n",
      "712/712 [==============================] - 0s 55us/sample - loss: 0.5420 - accuracy: 0.7879 - val_loss: 0.5503 - val_accuracy: 0.7821\n",
      "Epoch 44/50\n",
      "712/712 [==============================] - 0s 51us/sample - loss: 0.5406 - accuracy: 0.7879 - val_loss: 0.5489 - val_accuracy: 0.7821\n",
      "Epoch 45/50\n",
      "712/712 [==============================] - 0s 47us/sample - loss: 0.5392 - accuracy: 0.7879 - val_loss: 0.5477 - val_accuracy: 0.7821\n",
      "Epoch 46/50\n",
      "712/712 [==============================] - 0s 46us/sample - loss: 0.5379 - accuracy: 0.7879 - val_loss: 0.5466 - val_accuracy: 0.7821\n",
      "Epoch 47/50\n",
      "712/712 [==============================] - 0s 41us/sample - loss: 0.5367 - accuracy: 0.7879 - val_loss: 0.5456 - val_accuracy: 0.7821\n",
      "Epoch 48/50\n",
      "712/712 [==============================] - 0s 45us/sample - loss: 0.5355 - accuracy: 0.7879 - val_loss: 0.5446 - val_accuracy: 0.7821\n",
      "Epoch 49/50\n",
      "712/712 [==============================] - 0s 45us/sample - loss: 0.5344 - accuracy: 0.7879 - val_loss: 0.5435 - val_accuracy: 0.7821\n",
      "Epoch 50/50\n",
      "712/712 [==============================] - 0s 45us/sample - loss: 0.5334 - accuracy: 0.7879 - val_loss: 0.5425 - val_accuracy: 0.7821\n"
     ]
    }
   ],
   "source": [
    "from keras.utils import to_categorical\n",
    "y_binary = to_categorical(y_train)\n",
    "y_k = to_categorical(y_test)\n",
    "h = model.fit(x_train, y_binary, epochs=50, batch_size=50,\n",
    "              validation_data=(x_test, y_k),\n",
    "              callbacks=[tensorboard_callback])"
   ]
  },
  {
   "cell_type": "code",
   "execution_count": 100,
   "metadata": {},
   "outputs": [
    {
     "data": {
      "text/plain": [
       "0.7272727272727273"
      ]
     },
     "execution_count": 100,
     "metadata": {},
     "output_type": "execute_result"
    }
   ],
   "source": [
    "pred = model.predict(x_test)\n",
    "from sklearn.metrics import f1_score\n",
    "pred = np.argmax(pred, axis = 1)\n",
    "f1_score(pred, y_test)"
   ]
  },
  {
   "cell_type": "code",
   "execution_count": 101,
   "metadata": {},
   "outputs": [
    {
     "data": {
      "text/html": [
       "\n",
       "      <iframe id=\"tensorboard-frame-beb5a15417b2e14\" width=\"100%\" height=\"800\" frameborder=\"0\">\n",
       "      </iframe>\n",
       "      <script>\n",
       "        (function() {\n",
       "          const frame = document.getElementById(\"tensorboard-frame-beb5a15417b2e14\");\n",
       "          const url = new URL(\"/\", window.location);\n",
       "          url.port = 8008;\n",
       "          frame.src = url;\n",
       "        })();\n",
       "      </script>\n",
       "  "
      ],
      "text/plain": [
       "<IPython.core.display.HTML object>"
      ]
     },
     "metadata": {},
     "output_type": "display_data"
    }
   ],
   "source": [
    "import datetime, os\n",
    "import tensorboard\n",
    "%load_ext tensorboard\n",
    "\n",
    "#%reload_ext tensorboard\n",
    "logs_base_dir = \"./logs\"\n",
    "os.makedirs(logs_base_dir, exist_ok=True)\n",
    "%tensorboard --logdir {logs_base_dir} --host localhost --port 8008"
   ]
  },
  {
   "cell_type": "code",
   "execution_count": null,
   "metadata": {},
   "outputs": [],
   "source": []
  }
 ],
 "metadata": {
  "kernelspec": {
   "display_name": "Python 3",
   "language": "python",
   "name": "python3"
  },
  "language_info": {
   "codemirror_mode": {
    "name": "ipython",
    "version": 3
   },
   "file_extension": ".py",
   "mimetype": "text/x-python",
   "name": "python",
   "nbconvert_exporter": "python",
   "pygments_lexer": "ipython3",
   "version": "3.7.4"
  }
 },
 "nbformat": 4,
 "nbformat_minor": 4
}
