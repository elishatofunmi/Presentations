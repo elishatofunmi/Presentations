{
 "cells": [
  {
   "cell_type": "markdown",
   "metadata": {},
   "source": [
    "# Introduction"
   ]
  },
  {
   "cell_type": "markdown",
   "metadata": {},
   "source": [
    "Tensorflow is an end to end open source machine learning platform for everyone. It gives developers the flexibility of dataflow and differentiable programming.\n",
    "\n",
    "More importantly, its a symbolic math library and its used for machine learning applications such as neural networks, deep learning. It can be used for research and production. It runs on multiple CPUs and GPUs.\n",
    "\n",
    "Tensorflow was developed by the google brain team, the first version was released on the 11th of Febuary, 2017. Its an open source library written in python, c++ and CUDA. It is a cross-platform application that is, it is available on Linux, macOS, Windows, android, JavaScript. \n",
    "\n",
    "\n",
    "For more about tensorflow, do check out their website on https://www.tensorflow.org"
   ]
  },
  {
   "cell_type": "markdown",
   "metadata": {},
   "source": [
    "As the name implies its a framework that is defined to run on computations involving tensors.\n",
    "\n",
    "Tensors can be basically described as a generalization of vectors and matrices to potentially higher dimensions. Tensorflow represents tensors as an n-dimensional array of based datatypes.\n",
    "\n",
    "All tensorflow programs involves basic manipulations of tensors (tf.Tensors).\n",
    "A tf.Tensor object represents a partially defined computation that will always produce or operate on discrete/ continuous values.\n",
    "\n",
    "Just has we have in numpy, tf.Tensor has the following support of all datatypes in numpy. \n",
    "\n",
    "Type of tensors include: tf.Variable (tensor variable), tf.constant(tensor constants), tf.placeholder (tensor placeholders).\n",
    "\n",
    "Note: Tensorflow values are immutable (which implies that a single execution of tensors only have a single value).\n"
   ]
  },
  {
   "cell_type": "code",
   "execution_count": 1,
   "metadata": {},
   "outputs": [
    {
     "data": {
      "text/plain": [
       "'2.0.0'"
      ]
     },
     "execution_count": 1,
     "metadata": {},
     "output_type": "execute_result"
    }
   ],
   "source": [
    "import tensorflow as tf\n",
    "tf.__version__"
   ]
  },
  {
   "cell_type": "code",
   "execution_count": 2,
   "metadata": {},
   "outputs": [],
   "source": [
    "import numpy as np\n",
    "import sklearn as sk\n",
    "import seaborn as sns\n",
    "import tensorflow.compat.v1 as tf\n",
    "tf.disable_eager_execution()\n",
    "import pandas as pd\n",
    "import warnings\n",
    "warnings.filterwarnings('ignore')\n",
    "import os"
   ]
  },
  {
   "cell_type": "markdown",
   "metadata": {},
   "source": [
    "### creating your first graph"
   ]
  },
  {
   "cell_type": "code",
   "execution_count": 5,
   "metadata": {},
   "outputs": [],
   "source": [
    "x = tf.Variable(34, name = 'x')\n",
    "y = tf.Variable(12, name = 'y')\n",
    "z = tf.Variable(45, name = 'z')\n",
    "f = pow(x,3)+pow(x,2)*y +y*z\n",
    "\n",
    "with tf.Session() as sess:\n",
    "    init = tf.global_variables_initializer()\n",
    "    init.run()\n",
    "    result = f.eval()"
   ]
  },
  {
   "cell_type": "code",
   "execution_count": 6,
   "metadata": {},
   "outputs": [
    {
     "data": {
      "text/plain": [
       "53716"
      ]
     },
     "execution_count": 6,
     "metadata": {},
     "output_type": "execute_result"
    }
   ],
   "source": [
    "result"
   ]
  },
  {
   "cell_type": "code",
   "execution_count": 15,
   "metadata": {},
   "outputs": [],
   "source": [
    "a1 = tf.constant(3)\n",
    "a2 = a1 +12\n",
    "a3 = a2 -8\n",
    "\n",
    "with tf.Session() as sess:\n",
    "    #init = tf.global_variables_initializer()\n",
    "    init.run()\n",
    "    a = a3.eval()"
   ]
  },
  {
   "cell_type": "code",
   "execution_count": 16,
   "metadata": {},
   "outputs": [
    {
     "data": {
      "text/plain": [
       "7"
      ]
     },
     "execution_count": 16,
     "metadata": {},
     "output_type": "execute_result"
    }
   ],
   "source": [
    "a"
   ]
  },
  {
   "cell_type": "code",
   "execution_count": 21,
   "metadata": {},
   "outputs": [
    {
     "name": "stdout",
     "output_type": "stream",
     "text": [
      "[[1. 1. 1. 1. 1.]\n",
      " [1. 1. 1. 1. 1.]\n",
      " [1. 1. 1. 1. 1.]\n",
      " [1. 1. 1. 1. 1.]\n",
      " [1. 1. 1. 1. 1.]]\n"
     ]
    }
   ],
   "source": [
    "m = tf.ones((20,5))\n",
    "n = tf.zeros((5,20))\n",
    "k = tf.ones((5,5))\n",
    "\n",
    "y = tf.matmul(n,m) + k\n",
    "\n",
    "with tf.Session() as sess:\n",
    "    init = tf.global_variables_initializer()\n",
    "    init.run()\n",
    "    matrix = y.eval()\n",
    "    \n",
    "print(matrix)"
   ]
  },
  {
   "cell_type": "code",
   "execution_count": 27,
   "metadata": {},
   "outputs": [
    {
     "data": {
      "text/plain": [
       "numpy.ndarray"
      ]
     },
     "execution_count": 27,
     "metadata": {},
     "output_type": "execute_result"
    }
   ],
   "source": [
    "type(matrix)"
   ]
  },
  {
   "cell_type": "code",
   "execution_count": 29,
   "metadata": {},
   "outputs": [
    {
     "name": "stdout",
     "output_type": "stream",
     "text": [
      "-227.352\n"
     ]
    }
   ],
   "source": [
    "# matrix determinant\n",
    "arr = np.array([[2.0,4.0,6.6],\n",
    "                [6.6,8.2,1.1],\n",
    "                [7.4,4.1,2.9]])\n",
    "v= tf.matrix_determinant(arr)\n",
    "with tf.Session() as sess:\n",
    "    out = v.eval()\n",
    "    print(out)"
   ]
  },
  {
   "cell_type": "code",
   "execution_count": 77,
   "metadata": {},
   "outputs": [
    {
     "name": "stdout",
     "output_type": "stream",
     "text": [
      "[[-0.08475844 -0.06800028  0.21869172]\n",
      " [ 0.04838312  0.18930997 -0.18192055]\n",
      " [ 0.14787642 -0.09412717  0.04398466]]\n"
     ]
    }
   ],
   "source": [
    "# inverse of a matrix\n",
    "inv_mat = tf.matrix_inverse(arr)\n",
    "with tf.Session() as sess:\n",
    "    init = tf.global_variables_initializer()\n",
    "    init.run()\n",
    "    inv = inv_mat.eval()\n",
    "    print(inv)"
   ]
  },
  {
   "cell_type": "code",
   "execution_count": 78,
   "metadata": {},
   "outputs": [
    {
     "name": "stdout",
     "output_type": "stream",
     "text": [
      "[[[-0.08475844  0.          0.        ]\n",
      "  [ 0.         -0.06800028  0.        ]\n",
      "  [ 0.          0.          0.21869172]]\n",
      "\n",
      " [[ 0.04838312  0.          0.        ]\n",
      "  [ 0.          0.18930997  0.        ]\n",
      "  [ 0.          0.         -0.18192055]]\n",
      "\n",
      " [[ 0.14787642  0.          0.        ]\n",
      "  [ 0.         -0.09412717  0.        ]\n",
      "  [ 0.          0.          0.04398466]]]\n"
     ]
    }
   ],
   "source": [
    "# diagonal matrix\n",
    "diag = tf.matrix_diag(inv_mat)\n",
    "with tf.Session() as sess:\n",
    "    init = tf.global_variables_initializer()\n",
    "    init.run()\n",
    "    diagonal = diag.eval()\n",
    "    print(diagonal)"
   ]
  },
  {
   "cell_type": "code",
   "execution_count": 79,
   "metadata": {},
   "outputs": [
    {
     "name": "stdout",
     "output_type": "stream",
     "text": [
      "[[-0.08475844  0.04838312  0.14787642]\n",
      " [-0.06800028  0.18930997 -0.09412717]\n",
      " [ 0.21869172 -0.18192055  0.04398466]]\n"
     ]
    }
   ],
   "source": [
    "# transpose\n",
    "trans = tf.matrix_transpose(inv_mat)\n",
    "with tf.Session() as sess:\n",
    "    init = tf.global_variables_initializer()\n",
    "    init.run()\n",
    "    trans_n = trans.eval()\n",
    "    print(trans_n)"
   ]
  },
  {
   "cell_type": "code",
   "execution_count": 35,
   "metadata": {},
   "outputs": [
    {
     "name": "stdout",
     "output_type": "stream",
     "text": [
      "2\n"
     ]
    }
   ],
   "source": [
    "# max args\n",
    "dis = tf.argmax([3,4,20,15], name = 'dis')\n",
    "with tf.Session() as sess:\n",
    "    print(dis.eval())"
   ]
  },
  {
   "cell_type": "code",
   "execution_count": 37,
   "metadata": {},
   "outputs": [
    {
     "name": "stdout",
     "output_type": "stream",
     "text": [
      "1\n"
     ]
    }
   ],
   "source": [
    "# min args\n",
    "dis = tf.argmin([4,3,20,15], name = 'dis')\n",
    "with tf.Session() as sess:\n",
    "    print(dis.eval())"
   ]
  },
  {
   "cell_type": "code",
   "execution_count": 41,
   "metadata": {},
   "outputs": [
    {
     "name": "stdout",
     "output_type": "stream",
     "text": [
      "8\n"
     ]
    }
   ],
   "source": [
    "# addition\n",
    "a = tf.Variable(3)\n",
    "b = tf.Variable(5)\n",
    "c = tf.add(a,b)\n",
    "\n",
    "with tf.Session() as sess:\n",
    "    init = tf.global_variables_initializer()\n",
    "    init.run()\n",
    "    print(c.eval())"
   ]
  },
  {
   "cell_type": "code",
   "execution_count": 43,
   "metadata": {},
   "outputs": [
    {
     "name": "stdout",
     "output_type": "stream",
     "text": [
      "[2 1 0]\n"
     ]
    }
   ],
   "source": [
    "# argmax according to axis\n",
    "\n",
    "arg = tf.argmax(arr, axis = 1)\n",
    "with tf.Session() as sess:\n",
    "    nit = tf.global_variables_initializer()\n",
    "    init.run()\n",
    "    print(arg.eval())"
   ]
  },
  {
   "cell_type": "code",
   "execution_count": 46,
   "metadata": {},
   "outputs": [
    {
     "data": {
      "text/plain": [
       "array([[2. , 4. , 6.6],\n",
       "       [6.6, 8.2, 1.1],\n",
       "       [7.4, 4.1, 2.9]])"
      ]
     },
     "execution_count": 46,
     "metadata": {},
     "output_type": "execute_result"
    }
   ],
   "source": [
    "arr"
   ]
  },
  {
   "cell_type": "code",
   "execution_count": 47,
   "metadata": {},
   "outputs": [
    {
     "name": "stdout",
     "output_type": "stream",
     "text": [
      "[0 0 1]\n"
     ]
    }
   ],
   "source": [
    "# argmax according to axis\n",
    "\n",
    "arg = tf.argmin(arr, axis = 0)\n",
    "with tf.Session() as sess:\n",
    "    nit = tf.global_variables_initializer()\n",
    "    init.run()\n",
    "    print(arg.eval())"
   ]
  },
  {
   "cell_type": "code",
   "execution_count": 51,
   "metadata": {},
   "outputs": [
    {
     "name": "stdout",
     "output_type": "stream",
     "text": [
      "[[0 1 2]\n",
      " [2 0 1]\n",
      " [2 1 0]]\n"
     ]
    }
   ],
   "source": [
    "# Arg sorting\n",
    "b = tf.argsort(arr,axis=1,direction='ASCENDING',name='b')\n",
    "c = tf.keras.backend.eval(b)\n",
    "print(c)"
   ]
  },
  {
   "cell_type": "code",
   "execution_count": 8,
   "metadata": {},
   "outputs": [
    {
     "name": "stdout",
     "output_type": "stream",
     "text": [
      "[[15 18]\n",
      " [27 30]]\n"
     ]
    }
   ],
   "source": [
    "# confusion matrix\n",
    "a = tf.random_uniform((90,),minval = 0, maxval = 1)\n",
    "b = tf.random_uniform((90,), minval = 0, maxval =1)\n",
    "pred = tf.round(a, 'pred')\n",
    "y_true = tf.round(b,'y_true')\n",
    "confusion_mat = tf.confusion_matrix(pred, y_true, name = 'confusion_Matrix')\n",
    "with tf.Session() as sess:\n",
    "    init = tf.global_variables_initializer()\n",
    "    init.run()\n",
    "    print(confusion_mat.eval())"
   ]
  },
  {
   "cell_type": "code",
   "execution_count": 68,
   "metadata": {},
   "outputs": [
    {
     "name": "stdout",
     "output_type": "stream",
     "text": [
      "[1 2 3 4]\n"
     ]
    }
   ],
   "source": [
    "# cast - casting a tensor to a new type\n",
    "x = tf.constant([1.8,2.2, 3.5,4.9], dtype = tf.float32)\n",
    "rea = tf.dtypes.cast(x, tf.int32)\n",
    "with tf.Session() as sess:\n",
    "    init = tf.global_variables_initializer()\n",
    "    init.run()\n",
    "    print(rea.eval())"
   ]
  },
  {
   "cell_type": "code",
   "execution_count": 73,
   "metadata": {},
   "outputs": [
    {
     "name": "stdout",
     "output_type": "stream",
     "text": [
      "[ 1.8  4.   7.5 12.4]\n"
     ]
    }
   ],
   "source": [
    "# cummulative sum\n",
    "cum_sum = tf.cumsum(x, axis = 0, name = 'cum_sum')\n",
    "with tf.Session() as sess:\n",
    "    init = tf.global_variables_initializer()\n",
    "    init.run()\n",
    "    print(cum_sum.eval())"
   ]
  },
  {
   "cell_type": "markdown",
   "metadata": {},
   "source": [
    "# Place holders"
   ]
  },
  {
   "cell_type": "code",
   "execution_count": 80,
   "metadata": {},
   "outputs": [
    {
     "name": "stdout",
     "output_type": "stream",
     "text": [
      "[[6. 7. 8.]]\n"
     ]
    }
   ],
   "source": [
    "# placeholders are like inputs to dummy containers\n",
    "# they hold informations to be processed.\n",
    "\n",
    "A = tf.placeholder(tf.float32, shape = (None,3))\n",
    "B = A + 5\n",
    "\n",
    "with tf.Session() as sess:\n",
    "    b_val = B.eval(feed_dict = {A:[[1,2,3]]})\n",
    "    b_val_u = B.eval(feed_dict = {A:[[4,5,6],[7,8,9]]})\n",
    "print(b_val)"
   ]
  },
  {
   "cell_type": "code",
   "execution_count": 81,
   "metadata": {},
   "outputs": [
    {
     "name": "stdout",
     "output_type": "stream",
     "text": [
      "[[ 9. 10. 11.]\n",
      " [12. 13. 14.]]\n"
     ]
    }
   ],
   "source": [
    "print(b_val_u)"
   ]
  }
 ],
 "metadata": {
  "kernelspec": {
   "display_name": "Python 3",
   "language": "python",
   "name": "python3"
  },
  "language_info": {
   "codemirror_mode": {
    "name": "ipython",
    "version": 3
   },
   "file_extension": ".py",
   "mimetype": "text/x-python",
   "name": "python",
   "nbconvert_exporter": "python",
   "pygments_lexer": "ipython3",
   "version": "3.7.4"
  }
 },
 "nbformat": 4,
 "nbformat_minor": 4
}
