{
 "cells": [
  {
   "cell_type": "code",
   "execution_count": 1,
   "metadata": {},
   "outputs": [],
   "source": [
    "import numpy as np\n",
    "import sklearn as sk\n",
    "import seaborn as sns\n",
    "import tensorflow.compat.v1 as tf\n",
    "tf.disable_eager_execution()\n",
    "import pandas as pd\n",
    "import warnings\n",
    "warnings.filterwarnings('ignore')\n",
    "import os\n",
    "current_dir = os.getcwd()"
   ]
  },
  {
   "cell_type": "code",
   "execution_count": 2,
   "metadata": {},
   "outputs": [],
   "source": [
    "from sklearn.datasets import fetch_california_housing"
   ]
  },
  {
   "cell_type": "code",
   "execution_count": 3,
   "metadata": {},
   "outputs": [],
   "source": [
    "housing = fetch_california_housing()\n",
    "m, n = housing.data.shape"
   ]
  },
  {
   "cell_type": "code",
   "execution_count": 4,
   "metadata": {},
   "outputs": [
    {
     "data": {
      "text/html": [
       "<div>\n",
       "<style scoped>\n",
       "    .dataframe tbody tr th:only-of-type {\n",
       "        vertical-align: middle;\n",
       "    }\n",
       "\n",
       "    .dataframe tbody tr th {\n",
       "        vertical-align: top;\n",
       "    }\n",
       "\n",
       "    .dataframe thead th {\n",
       "        text-align: right;\n",
       "    }\n",
       "</style>\n",
       "<table border=\"1\" class=\"dataframe\">\n",
       "  <thead>\n",
       "    <tr style=\"text-align: right;\">\n",
       "      <th></th>\n",
       "      <th>0</th>\n",
       "      <th>1</th>\n",
       "      <th>2</th>\n",
       "      <th>3</th>\n",
       "      <th>4</th>\n",
       "      <th>5</th>\n",
       "      <th>6</th>\n",
       "      <th>7</th>\n",
       "    </tr>\n",
       "  </thead>\n",
       "  <tbody>\n",
       "    <tr>\n",
       "      <td>0</td>\n",
       "      <td>8.3252</td>\n",
       "      <td>41.0</td>\n",
       "      <td>6.984127</td>\n",
       "      <td>1.023810</td>\n",
       "      <td>322.0</td>\n",
       "      <td>2.555556</td>\n",
       "      <td>37.88</td>\n",
       "      <td>-122.23</td>\n",
       "    </tr>\n",
       "    <tr>\n",
       "      <td>1</td>\n",
       "      <td>8.3014</td>\n",
       "      <td>21.0</td>\n",
       "      <td>6.238137</td>\n",
       "      <td>0.971880</td>\n",
       "      <td>2401.0</td>\n",
       "      <td>2.109842</td>\n",
       "      <td>37.86</td>\n",
       "      <td>-122.22</td>\n",
       "    </tr>\n",
       "    <tr>\n",
       "      <td>2</td>\n",
       "      <td>7.2574</td>\n",
       "      <td>52.0</td>\n",
       "      <td>8.288136</td>\n",
       "      <td>1.073446</td>\n",
       "      <td>496.0</td>\n",
       "      <td>2.802260</td>\n",
       "      <td>37.85</td>\n",
       "      <td>-122.24</td>\n",
       "    </tr>\n",
       "    <tr>\n",
       "      <td>3</td>\n",
       "      <td>5.6431</td>\n",
       "      <td>52.0</td>\n",
       "      <td>5.817352</td>\n",
       "      <td>1.073059</td>\n",
       "      <td>558.0</td>\n",
       "      <td>2.547945</td>\n",
       "      <td>37.85</td>\n",
       "      <td>-122.25</td>\n",
       "    </tr>\n",
       "    <tr>\n",
       "      <td>4</td>\n",
       "      <td>3.8462</td>\n",
       "      <td>52.0</td>\n",
       "      <td>6.281853</td>\n",
       "      <td>1.081081</td>\n",
       "      <td>565.0</td>\n",
       "      <td>2.181467</td>\n",
       "      <td>37.85</td>\n",
       "      <td>-122.25</td>\n",
       "    </tr>\n",
       "  </tbody>\n",
       "</table>\n",
       "</div>"
      ],
      "text/plain": [
       "        0     1         2         3       4         5      6       7\n",
       "0  8.3252  41.0  6.984127  1.023810   322.0  2.555556  37.88 -122.23\n",
       "1  8.3014  21.0  6.238137  0.971880  2401.0  2.109842  37.86 -122.22\n",
       "2  7.2574  52.0  8.288136  1.073446   496.0  2.802260  37.85 -122.24\n",
       "3  5.6431  52.0  5.817352  1.073059   558.0  2.547945  37.85 -122.25\n",
       "4  3.8462  52.0  6.281853  1.081081   565.0  2.181467  37.85 -122.25"
      ]
     },
     "execution_count": 4,
     "metadata": {},
     "output_type": "execute_result"
    }
   ],
   "source": [
    "frame = pd.DataFrame(housing.data)\n",
    "frame.head()"
   ]
  },
  {
   "cell_type": "code",
   "execution_count": 5,
   "metadata": {},
   "outputs": [
    {
     "data": {
      "text/plain": [
       "(20640, 8)"
      ]
     },
     "execution_count": 5,
     "metadata": {},
     "output_type": "execute_result"
    }
   ],
   "source": [
    "frame.shape"
   ]
  },
  {
   "cell_type": "code",
   "execution_count": 6,
   "metadata": {},
   "outputs": [
    {
     "data": {
      "text/plain": [
       "(20640, 1)"
      ]
     },
     "execution_count": 6,
     "metadata": {},
     "output_type": "execute_result"
    }
   ],
   "source": [
    "target = pd.DataFrame(housing.target)\n",
    "target.shape"
   ]
  },
  {
   "cell_type": "code",
   "execution_count": 7,
   "metadata": {},
   "outputs": [],
   "source": [
    "from sklearn.model_selection import train_test_split\n",
    "x_train, x_test, y_train, y_test = train_test_split(frame, target, test_size = 0.20, random_state = 42)"
   ]
  },
  {
   "cell_type": "markdown",
   "metadata": {},
   "source": [
    "# Ensemble learning\n"
   ]
  },
  {
   "cell_type": "code",
   "execution_count": 8,
   "metadata": {},
   "outputs": [
    {
     "data": {
      "text/plain": [
       "GradientBoostingRegressor(alpha=0.9, ccp_alpha=0.0, criterion='friedman_mse',\n",
       "                          init=None, learning_rate=0.1, loss='ls', max_depth=3,\n",
       "                          max_features=None, max_leaf_nodes=None,\n",
       "                          min_impurity_decrease=0.0, min_impurity_split=None,\n",
       "                          min_samples_leaf=1, min_samples_split=2,\n",
       "                          min_weight_fraction_leaf=0.0, n_estimators=100,\n",
       "                          n_iter_no_change=None, presort='deprecated',\n",
       "                          random_state=None, subsample=1.0, tol=0.0001,\n",
       "                          validation_fraction=0.1, verbose=0, warm_start=False)"
      ]
     },
     "execution_count": 8,
     "metadata": {},
     "output_type": "execute_result"
    }
   ],
   "source": [
    "from sklearn.ensemble import GradientBoostingRegressor\n",
    "gbrt = GradientBoostingRegressor()\n",
    "gbrt.fit(x_train, y_train)"
   ]
  },
  {
   "cell_type": "code",
   "execution_count": 9,
   "metadata": {},
   "outputs": [
    {
     "name": "stdout",
     "output_type": "stream",
     "text": [
      "Training score:  0.8048978817773167\n",
      "Testing score:  0.29393470011606526\n"
     ]
    }
   ],
   "source": [
    "pred = gbrt.predict(x_test)\n",
    "from sklearn.metrics import mean_squared_error\n",
    "print('Training score: ', gbrt.score(x_train, y_train))\n",
    "print('Testing score: ', mean_squared_error(y_test, pred))"
   ]
  },
  {
   "cell_type": "code",
   "execution_count": 10,
   "metadata": {},
   "outputs": [
    {
     "name": "stdout",
     "output_type": "stream",
     "text": [
      "0.0\n"
     ]
    }
   ],
   "source": [
    "def compute_accuracy(y_test, pred):\n",
    "    output = []\n",
    "    for i, j in zip(y_test, pred):\n",
    "        cal = i/j\n",
    "        if cal > 1:\n",
    "            output.append(np.round(j/i))\n",
    "            \n",
    "        else:\n",
    "            output.append(np.round(cal))\n",
    "            \n",
    "    return np.sum(output)/len(output)\n",
    "\n",
    "print(compute_accuracy(y_test, pred))"
   ]
  },
  {
   "cell_type": "markdown",
   "metadata": {},
   "source": [
    "# Manually computing MSE with the use of optimizers"
   ]
  },
  {
   "cell_type": "code",
   "execution_count": 84,
   "metadata": {},
   "outputs": [],
   "source": [
    "from keras.backend import clear_session\n",
    "clear_session()"
   ]
  },
  {
   "cell_type": "code",
   "execution_count": 85,
   "metadata": {},
   "outputs": [
    {
     "name": "stdout",
     "output_type": "stream",
     "text": [
      "number of batches is:  17\n"
     ]
    }
   ],
   "source": [
    "batch_size = 1000\n",
    "n_batches = int(np.ceil(16512/batch_size))\n",
    "print('number of batches is: ', str(n_batches))"
   ]
  },
  {
   "cell_type": "code",
   "execution_count": 86,
   "metadata": {},
   "outputs": [],
   "source": [
    "def fetch_batch(batch_index):\n",
    "    if batch_index < n_batches-1:\n",
    "        start = batch_index * batch_size\n",
    "        stop = batch_size + start\n",
    "        x_batch = x_train[start:stop]\n",
    "        y_batch = y_train[start:stop]\n",
    "        \n",
    "    else:\n",
    "        start = batch_index* batch_size\n",
    "        x_batch = x_train[start:]\n",
    "        y_batch = y_train[start:]\n",
    "    return x_batch, y_batch"
   ]
  },
  {
   "cell_type": "code",
   "execution_count": 87,
   "metadata": {},
   "outputs": [
    {
     "data": {
      "text/plain": [
       "((16512, 8), (16512, 1))"
      ]
     },
     "execution_count": 87,
     "metadata": {},
     "output_type": "execute_result"
    }
   ],
   "source": [
    "x_train.shape, y_train.shape"
   ]
  },
  {
   "cell_type": "code",
   "execution_count": 88,
   "metadata": {},
   "outputs": [],
   "source": [
    "m, n = x_train.shape"
   ]
  },
  {
   "cell_type": "code",
   "execution_count": 89,
   "metadata": {},
   "outputs": [
    {
     "name": "stdout",
     "output_type": "stream",
     "text": [
      "Epoch: 01 | Average Training Loss= 5.07 | Training MSE:  61.50 | Test/Validation MSE:  50.13\n",
      "Epoch: 10 | Average Training Loss= 1.55 | Training MSE:  74.36 | Test/Validation MSE:  73.66\n",
      "Epoch: 19 | Average Training Loss= 1.78 | Training MSE:  25.60 | Test/Validation MSE:  25.35\n",
      "Epoch: 28 | Average Training Loss= 1.53 | Training MSE:  51.34 | Test/Validation MSE:  51.16\n",
      "Epoch: 37 | Average Training Loss= 1.63 | Training MSE:  35.24 | Test/Validation MSE:  34.54\n",
      "Epoch: 46 | Average Training Loss= 1.70 | Training MSE:  27.54 | Test/Validation MSE:  27.55\n",
      "Model fit complete.\n",
      "Final Training MSE: 27.33\n",
      "Final Validation MSE: 27.31\n"
     ]
    }
   ],
   "source": [
    "#X = tf.constant(housing_data_plus_bias, dtype =tf.float32, name = 'X')\n",
    "#y = tf.constant(housing.target.reshape(-1,1), dtype = tf.float32, name = 'y')\n",
    "\n",
    "X = tf.placeholder(tf.float32, shape = (None,8), name = 'x')\n",
    "y = tf.placeholder(tf.float32, shape = (None,1), name = 'y')\n",
    "\n",
    "with tf.name_scope('loss'):\n",
    "    #theta = tf.Variable(tf.random_uniform((8,1), -1.0, 1.0), name = 'theta')\n",
    "    stddev = 2/np.sqrt(8)\n",
    "    w = tf.Variable(tf.random_normal((8,1), stddev = stddev, name = 'weights'))\n",
    "    b = tf.Variable(tf.zeros(m,1), name = 'biases')\n",
    "    y_pred = tf.add(tf.matmul(X,w),b, name= 'predictions')\n",
    "    error = y_pred - y\n",
    "    mse = tf.reduce_mean(tf.square(error), name = 'mse')\n",
    "    \n",
    "with tf.name_scope('training'):\n",
    "    learning_rate = 0.01\n",
    "    optimizer= tf.train.RMSPropOptimizer(learning_rate = learning_rate)\n",
    "    training_op = optimizer.minimize(mse)\n",
    "    init = tf.global_variables_initializer()\n",
    "    saver = tf.train.Saver()\n",
    "\n",
    "train_loss, test_loss = [],[]\n",
    "\n",
    "n_epochs = 50\n",
    "with tf.Session() as sess:\n",
    "    \n",
    "    init.run()\n",
    "    for epoch in range(n_epochs):\n",
    "        batch_step = 0\n",
    "        avg_loss = 0\n",
    "        total_loss = 0\n",
    "        total_batch = int(x_train.shape[0]/batch_size)\n",
    "        for batch_index in range(n_batches):\n",
    "            x_batch, y_batch = fetch_batch(batch_index)\n",
    "            _,l = sess.run([training_op, mse], feed_dict= {X:x_batch, y:y_batch})\n",
    "            batch_step+=1\n",
    "            total_loss +=l\n",
    "        if epoch % 10 == 0: # print 5 batches of epochs\n",
    "            avg_loss = total_loss/batch_size\n",
    "            print(\"Epoch:\", '%02d' % (epoch+1), \"| Average Training Loss= {:.2f}\".format(avg_loss), \n",
    "                  \"| Training MSE:  {:.2f}\".format(mse.eval({X: x_train, y: y_train})),\n",
    "                  \"| Test/Validation MSE:  {:.2f}\".format(mse.eval({X: x_test, y: y_test})))\n",
    "            train_loss.append(mse.eval({X:x_train, y:y_train}))\n",
    "            test_loss.append(mse.eval({X:x_test, y:y_test}))\n",
    "        else:\n",
    "            train_loss.append(mse.eval({X:x_train, y:y_train}))\n",
    "            test_loss.append(mse.eval({X:x_test, y:y_test}))\n",
    "    \n",
    "    print(\"Model fit complete.\")\n",
    "    print(\"Final Training MSE: {:.2f}\".format(mse.eval({X: x_train, y: y_train})))\n",
    "    print(\"Final Validation MSE: {:.2f}\".format(mse.eval({X: x_test, y: y_test})))\n",
    "    save_path = saver.save(sess, './house_reg.ckpt')"
   ]
  },
  {
   "cell_type": "code",
   "execution_count": 17,
   "metadata": {},
   "outputs": [
    {
     "data": {
      "image/png": "[encoded data removed]",
      "text/plain": [
       "<Figure size 432x288 with 1 Axes>"
      ]
     },
     "metadata": {
      "needs_background": "light"
     },
     "output_type": "display_data"
    }
   ],
   "source": [
    "import seaborn as sns\n",
    "import matplotlib.pyplot as plt\n",
    "plt.plot(train_loss)\n",
    "plt.plot(test_loss)\n",
    "plt.title('model loss')\n",
    "plt.ylabel('loss')\n",
    "plt.xlabel('epoch')\n",
    "plt.legend(['train', 'test'], loc='upper left')\n",
    "plt.show()\n"
   ]
  },
  {
   "cell_type": "code",
   "execution_count": 18,
   "metadata": {},
   "outputs": [
    {
     "data": {
      "image/png": "[encoded data removed]",
      "text/plain": [
       "<Figure size 432x288 with 1 Axes>"
      ]
     },
     "metadata": {
      "needs_background": "light"
     },
     "output_type": "display_data"
    }
   ],
   "source": [
    "epoch_list = [i for i in range(10)]\n",
    "import seaborn as sns\n",
    "ax = sns.lineplot(x=epoch_list, y=train_loss)"
   ]
  },
  {
   "cell_type": "code",
   "execution_count": 19,
   "metadata": {},
   "outputs": [
    {
     "data": {
      "image/png": "[encoded data removed]",
      "text/plain": [
       "<Figure size 432x288 with 1 Axes>"
      ]
     },
     "metadata": {
      "needs_background": "light"
     },
     "output_type": "display_data"
    }
   ],
   "source": [
    "epoch_list = [i for i in range(10)]\n",
    "import seaborn as sns\n",
    "ax = sns.lineplot(x=epoch_list, y=test_loss)"
   ]
  },
  {
   "cell_type": "markdown",
   "metadata": {},
   "source": [
    "# Neural Networks"
   ]
  },
  {
   "cell_type": "code",
   "execution_count": 90,
   "metadata": {},
   "outputs": [],
   "source": [
    "from keras.backend import clear_session\n",
    "clear_session()"
   ]
  },
  {
   "cell_type": "code",
   "execution_count": 91,
   "metadata": {},
   "outputs": [],
   "source": [
    "n_inputs = 8\n",
    "h1 = 40\n",
    "h2 = 100\n",
    "h3 = 20\n",
    "n_output = 1\n",
    "\n",
    "X = tf.placeholder(tf.float32, shape = (None,8), name = 'x')\n",
    "y = tf.placeholder(tf.float32, shape = (None,1), name = 'y')\n",
    "\n",
    "\n",
    "def neuron_layer(X, n_neurons, name, activation = None):\n",
    "    with tf.name_scope(name):\n",
    "        n_inputs = int(X.get_shape()[1])\n",
    "        stddev = 2/ np.sqrt(n_inputs)\n",
    "        init = tf.truncated_normal((n_inputs, n_neurons), stddev = stddev)\n",
    "        W = tf.Variable(init, name = 'weights')\n",
    "        b = tf.Variable(tf.zeros([n_neurons]), name = 'biases')\n",
    "        z = tf.matmul(X, W) + b\n",
    "        \n",
    "        if activation == 'relu':\n",
    "            return tf.nn.relu(z)\n",
    "        \n",
    "        else:\n",
    "            return z\n",
    "        \n",
    "with tf.name_scope('NeuralNet'):\n",
    "    hidden1 = neuron_layer(X, h1, 'hidden1', activation = 'relu')\n",
    "    hidden2 = neuron_layer(hidden1, h2, 'hidden2', activation = 'relu')\n",
    "    hidden3 = neuron_layer(hidden2, h3, 'hidden3', activation = 'relu')\n",
    "    y_pred = neuron_layer(hidden3, n_output, 'outputs')\n",
    "\n",
    "    \n",
    "with tf.name_scope('loss'):\n",
    "    error = y_pred - y\n",
    "    mse = tf.reduce_mean(tf.square(error), name = 'mse')\n",
    "    \n",
    "  "
   ]
  },
  {
   "cell_type": "code",
   "execution_count": 92,
   "metadata": {},
   "outputs": [
    {
     "name": "stdout",
     "output_type": "stream",
     "text": [
      "Epoch: 01 | Average Training Loss= 14017.66 | Training MSE:  46.49 | Test/Validation MSE:  38.42\n",
      "Epoch: 11 | Average Training Loss= 0.05 | Training MSE:  2.99 | Test/Validation MSE:  2.92\n",
      "Epoch: 21 | Average Training Loss= 0.02 | Training MSE:  1.34 | Test/Validation MSE:  1.31\n",
      "Epoch: 31 | Average Training Loss= 0.02 | Training MSE:  1.34 | Test/Validation MSE:  1.31\n",
      "Epoch: 41 | Average Training Loss= 0.02 | Training MSE:  1.34 | Test/Validation MSE:  1.31\n",
      "Epoch: 51 | Average Training Loss= 0.02 | Training MSE:  1.34 | Test/Validation MSE:  1.31\n",
      "Epoch: 61 | Average Training Loss= 0.02 | Training MSE:  1.34 | Test/Validation MSE:  1.31\n",
      "Epoch: 71 | Average Training Loss= 0.02 | Training MSE:  1.34 | Test/Validation MSE:  1.31\n",
      "Epoch: 81 | Average Training Loss= 0.02 | Training MSE:  1.34 | Test/Validation MSE:  1.31\n",
      "Epoch: 91 | Average Training Loss= 0.02 | Training MSE:  1.34 | Test/Validation MSE:  1.31\n",
      "Model fit complete.\n",
      "Final Training MSE: 1.34\n",
      "Final Validation MSE: 1.31\n"
     ]
    }
   ],
   "source": [
    "with tf.name_scope('training'):\n",
    "    learning_rate = 0.01\n",
    "    optimizer = tf.train.RMSPropOptimizer(learning_rate = learning_rate)\n",
    "    training_op = optimizer.minimize(mse)\n",
    "    init = tf.global_variables_initializer()\n",
    "    saver = tf.train.Saver()\n",
    "\n",
    "train_loss = []\n",
    "test_loss = []\n",
    "n_epochs = 100\n",
    "\n",
    "\n",
    "with tf.Session() as sess:\n",
    "    writer = tf.summary.FileWriter('logs', sess.graph)\n",
    "    init.run()\n",
    "    for epoch in range(n_epochs):\n",
    "        batch_step = 0\n",
    "        avg_loss = 0\n",
    "        total_loss = 0\n",
    "        total_batch = int(x_train.shape[0]/batch_size)\n",
    "        for batch_index in range(n_batches):\n",
    "            x_batch, y_batch = fetch_batch(batch_index)\n",
    "            _,l = sess.run([training_op, mse], feed_dict= {X:x_batch, y:y_batch})\n",
    "            batch_step+=1\n",
    "            total_loss +=l\n",
    "        if epoch % 10 == 0: # print 5 batches of epochs\n",
    "            avg_loss = total_loss/batch_size\n",
    "            print(\"Epoch:\", '%02d' % (epoch+1), \"| Average Training Loss= {:.2f}\".format(avg_loss), \n",
    "                  \"| Training MSE:  {:.2f}\".format(mse.eval({X: x_train, y: y_train})),\n",
    "                  \"| Test/Validation MSE:  {:.2f}\".format(mse.eval({X: x_test, y: y_test})))\n",
    "            train_loss.append(mse.eval({X:x_train, y:y_train}))\n",
    "            test_loss.append(mse.eval({X:x_test, y:y_test}))\n",
    "        \n",
    "        else:\n",
    "            train_loss.append(mse.eval({X:x_train, y:y_train}))\n",
    "            test_loss.append(mse.eval({X:x_test, y:y_test}))\n",
    "                \n",
    "         \n",
    "    \n",
    "    print(\"Model fit complete.\")\n",
    "    print(\"Final Training MSE: {:.2f}\".format(mse.eval({X: x_train, y: y_train})))\n",
    "    print(\"Final Validation MSE: {:.2f}\".format(mse.eval({X: x_test, y: y_test})))\n",
    "    save_path = saver.save(sess, './house_reg2.h5')\n",
    "    writer.close()"
   ]
  },
  {
   "cell_type": "code",
   "execution_count": 93,
   "metadata": {},
   "outputs": [
    {
     "name": "stdout",
     "output_type": "stream",
     "text": [
      "The tensorboard extension is already loaded. To reload it, use:\n",
      "  %reload_ext tensorboard\n"
     ]
    },
    {
     "data": {
      "text/html": [
       "\n",
       "      <iframe id=\"tensorboard-frame-3b870563e0f0eddd\" width=\"100%\" height=\"800\" frameborder=\"0\">\n",
       "      </iframe>\n",
       "      <script>\n",
       "        (function() {\n",
       "          const frame = document.getElementById(\"tensorboard-frame-3b870563e0f0eddd\");\n",
       "          const url = new URL(\"/\", window.location);\n",
       "          url.port = 8008;\n",
       "          frame.src = url;\n",
       "        })();\n",
       "      </script>\n",
       "  "
      ],
      "text/plain": [
       "<IPython.core.display.HTML object>"
      ]
     },
     "metadata": {},
     "output_type": "display_data"
    }
   ],
   "source": [
    "import datetime, os\n",
    "import tensorboard\n",
    "%load_ext tensorboard\n",
    "\n",
    "#%reload_ext tensorboard\n",
    "logs_base_dir = \"./logs\"\n",
    "os.makedirs(logs_base_dir, exist_ok=True)\n",
    "%tensorboard --logdir {logs_base_dir} --host localhost --port 8008"
   ]
  },
  {
   "cell_type": "code",
   "execution_count": 60,
   "metadata": {},
   "outputs": [
    {
     "data": {
      "image/png": "[encoded data removed]",
      "text/plain": [
       "<Figure size 432x288 with 1 Axes>"
      ]
     },
     "metadata": {
      "needs_background": "light"
     },
     "output_type": "display_data"
    }
   ],
   "source": [
    "import seaborn as sns\n",
    "import matplotlib.pyplot as plt\n",
    "# summarize history for loss\n",
    "plt.plot(train_loss)\n",
    "plt.plot(test_loss)\n",
    "plt.title('model loss')\n",
    "plt.ylabel('loss')\n",
    "plt.xlabel('epoch')\n",
    "plt.legend(['train', 'test'], loc='upper left')\n",
    "plt.show()\n"
   ]
  },
  {
   "cell_type": "code",
   "execution_count": 34,
   "metadata": {},
   "outputs": [
    {
     "data": {
      "image/png": "[encoded data removed]",
      "text/plain": [
       "<Figure size 432x288 with 1 Axes>"
      ]
     },
     "metadata": {
      "needs_background": "light"
     },
     "output_type": "display_data"
    }
   ],
   "source": [
    "epoch_list = [i for i in range(10)]\n",
    "import seaborn as sns\n",
    "ax = sns.lineplot(x=epoch_list, y=train_loss)"
   ]
  },
  {
   "cell_type": "code",
   "execution_count": 35,
   "metadata": {},
   "outputs": [
    {
     "data": {
      "image/png": "[encoded data removed]",
      "text/plain": [
       "<Figure size 432x288 with 1 Axes>"
      ]
     },
     "metadata": {
      "needs_background": "light"
     },
     "output_type": "display_data"
    }
   ],
   "source": [
    "epoch_list = [i for i in range(n_epochs)]\n",
    "import seaborn as sns\n",
    "ax = sns.lineplot(x=epoch_list, y=test_loss)"
   ]
  },
  {
   "cell_type": "markdown",
   "metadata": {},
   "source": [
    "# Keras in tensorflow"
   ]
  },
  {
   "cell_type": "code",
   "execution_count": 112,
   "metadata": {},
   "outputs": [],
   "source": [
    "import keras \n",
    "from tensorflow.compat.v1.keras.backend import clear_session\n",
    "# Before instantiating a tf.data.Dataset obj & before model creation, call:\n",
    "clear_session()"
   ]
  },
  {
   "cell_type": "code",
   "execution_count": 113,
   "metadata": {},
   "outputs": [],
   "source": [
    "from tensorflow.keras import layers\n",
    "logdir = \"logs/scalars/\" + datetime.datetime.now().strftime(\"%Y%m%d-%H%M%S\")\n",
    "tensorboard_callback = keras.callbacks.TensorBoard(log_dir=logdir)\n",
    "\n",
    "model = tf.keras.Sequential()\n",
    "model.add(layers.Dense(40,input_shape=(8,), activation='relu'))\n",
    "model.add(layers.Dense(100, activation='relu'))\n",
    "model.add(layers.Dense(20, activation='relu'))\n",
    "model.add(layers.Dense(1))\n"
   ]
  },
  {
   "cell_type": "code",
   "execution_count": 114,
   "metadata": {},
   "outputs": [
    {
     "name": "stdout",
     "output_type": "stream",
     "text": [
      "Model: \"sequential\"\n",
      "_________________________________________________________________\n",
      "Layer (type)                 Output Shape              Param #   \n",
      "=================================================================\n",
      "dense (Dense)                (None, 40)                360       \n",
      "_________________________________________________________________\n",
      "dense_1 (Dense)              (None, 100)               4100      \n",
      "_________________________________________________________________\n",
      "dense_2 (Dense)              (None, 20)                2020      \n",
      "_________________________________________________________________\n",
      "dense_3 (Dense)              (None, 1)                 21        \n",
      "=================================================================\n",
      "Total params: 6,501\n",
      "Trainable params: 6,501\n",
      "Non-trainable params: 0\n",
      "_________________________________________________________________\n"
     ]
    }
   ],
   "source": [
    "model.compile(optimizer=tf.keras.optimizers.RMSprop(0.01),\n",
    "              loss= tf.keras.losses.mean_squared_error,\n",
    "              metrics=['mse'])\n",
    "\n",
    "model.summary()"
   ]
  },
  {
   "cell_type": "code",
   "execution_count": 115,
   "metadata": {},
   "outputs": [
    {
     "name": "stdout",
     "output_type": "stream",
     "text": [
      "Train on 16512 samples, validate on 4128 samples\n",
      "Epoch 1/50\n",
      "16512/16512 [==============================] - 0s 12us/sample - loss: 29505.2751 - mse: 29505.2773 - val_loss: 3.3144 - val_mse: 3.3144\n",
      "Epoch 2/50\n",
      "16512/16512 [==============================] - 0s 5us/sample - loss: 404.9254 - mse: 404.9254 - val_loss: 10.9627 - val_mse: 10.9627\n",
      "Epoch 3/50\n",
      "16512/16512 [==============================] - 0s 5us/sample - loss: 564.9246 - mse: 564.9246 - val_loss: 3.0174 - val_mse: 3.0174\n",
      "Epoch 4/50\n",
      "16512/16512 [==============================] - 0s 5us/sample - loss: 18.9541 - mse: 18.9541 - val_loss: 21.1946 - val_mse: 21.1946\n",
      "Epoch 5/50\n",
      "16512/16512 [==============================] - 0s 5us/sample - loss: 43.4433 - mse: 43.4433 - val_loss: 88.8712 - val_mse: 88.8712\n",
      "Epoch 6/50\n",
      "16512/16512 [==============================] - 0s 5us/sample - loss: 6.6784 - mse: 6.6784 - val_loss: 3.7804 - val_mse: 3.7804\n",
      "Epoch 7/50\n",
      "16512/16512 [==============================] - 0s 5us/sample - loss: 11.8922 - mse: 11.8922 - val_loss: 7.8231 - val_mse: 7.8231\n",
      "Epoch 8/50\n",
      "16512/16512 [==============================] - 0s 5us/sample - loss: 4.1411 - mse: 4.1411 - val_loss: 2.1087 - val_mse: 2.1087\n",
      "Epoch 9/50\n",
      "16512/16512 [==============================] - 0s 5us/sample - loss: 3.0784 - mse: 3.0784 - val_loss: 3.7222 - val_mse: 3.7222\n",
      "Epoch 10/50\n",
      "16512/16512 [==============================] - 0s 5us/sample - loss: 4.1987 - mse: 4.1987 - val_loss: 3.1375 - val_mse: 3.1375\n",
      "Epoch 11/50\n",
      "16512/16512 [==============================] - 0s 5us/sample - loss: 5.3297 - mse: 5.3297 - val_loss: 4.2483 - val_mse: 4.2483\n",
      "Epoch 12/50\n",
      "16512/16512 [==============================] - 0s 5us/sample - loss: 99.1548 - mse: 99.1548 - val_loss: 3.0521 - val_mse: 3.0521\n",
      "Epoch 13/50\n",
      "16512/16512 [==============================] - 0s 5us/sample - loss: 3.0247 - mse: 3.0247 - val_loss: 2.2580 - val_mse: 2.2580\n",
      "Epoch 14/50\n",
      "16512/16512 [==============================] - 0s 5us/sample - loss: 2.0249 - mse: 2.0249 - val_loss: 3.3779 - val_mse: 3.3779\n",
      "Epoch 15/50\n",
      "16512/16512 [==============================] - 0s 4us/sample - loss: 2.3838 - mse: 2.3838 - val_loss: 1.2786 - val_mse: 1.2786\n",
      "Epoch 16/50\n",
      "16512/16512 [==============================] - 0s 4us/sample - loss: 10.5113 - mse: 10.5113 - val_loss: 3.3428 - val_mse: 3.3428\n",
      "Epoch 17/50\n",
      "16512/16512 [==============================] - 0s 5us/sample - loss: 2.9262 - mse: 2.9262 - val_loss: 3.2901 - val_mse: 3.2901\n",
      "Epoch 18/50\n",
      "16512/16512 [==============================] - 0s 5us/sample - loss: 4.4058 - mse: 4.4058 - val_loss: 3.0709 - val_mse: 3.0709\n",
      "Epoch 19/50\n",
      "16512/16512 [==============================] - 0s 5us/sample - loss: 2.8897 - mse: 2.8897 - val_loss: 2.8076 - val_mse: 2.8076\n",
      "Epoch 20/50\n",
      "16512/16512 [==============================] - 0s 5us/sample - loss: 2.1720 - mse: 2.1720 - val_loss: 1.4534 - val_mse: 1.4534\n",
      "Epoch 21/50\n",
      "16512/16512 [==============================] - 0s 5us/sample - loss: 1.8858 - mse: 1.8858 - val_loss: 1.7286 - val_mse: 1.7286\n",
      "Epoch 22/50\n",
      "16512/16512 [==============================] - 0s 5us/sample - loss: 1.6418 - mse: 1.6418 - val_loss: 1.7398 - val_mse: 1.7398\n",
      "Epoch 23/50\n",
      "16512/16512 [==============================] - 0s 5us/sample - loss: 2.0167 - mse: 2.0167 - val_loss: 2.1023 - val_mse: 2.1023\n",
      "Epoch 24/50\n",
      "16512/16512 [==============================] - 0s 4us/sample - loss: 1.9500 - mse: 1.9500 - val_loss: 1.9036 - val_mse: 1.9036\n",
      "Epoch 25/50\n",
      "16512/16512 [==============================] - 0s 5us/sample - loss: 1.8425 - mse: 1.8425 - val_loss: 1.7056 - val_mse: 1.7056\n",
      "Epoch 26/50\n",
      "16512/16512 [==============================] - 0s 5us/sample - loss: 1.5735 - mse: 1.5735 - val_loss: 430.2594 - val_mse: 430.2594\n",
      "Epoch 27/50\n",
      "16512/16512 [==============================] - 0s 4us/sample - loss: 26.2764 - mse: 26.2764 - val_loss: 1.3920 - val_mse: 1.3920\n",
      "Epoch 28/50\n",
      "16512/16512 [==============================] - 0s 5us/sample - loss: 1.5164 - mse: 1.5164 - val_loss: 1.5667 - val_mse: 1.5667\n",
      "Epoch 29/50\n",
      "16512/16512 [==============================] - 0s 5us/sample - loss: 1.5307 - mse: 1.5307 - val_loss: 1.2325 - val_mse: 1.2325\n",
      "Epoch 30/50\n",
      "16512/16512 [==============================] - 0s 5us/sample - loss: 1.4044 - mse: 1.4044 - val_loss: 1.3092 - val_mse: 1.3092\n",
      "Epoch 31/50\n",
      "16512/16512 [==============================] - 0s 5us/sample - loss: 1.4078 - mse: 1.4078 - val_loss: 1.4021 - val_mse: 1.4021\n",
      "Epoch 32/50\n",
      "16512/16512 [==============================] - 0s 5us/sample - loss: 1.4026 - mse: 1.4026 - val_loss: 1.3387 - val_mse: 1.3387\n",
      "Epoch 33/50\n",
      "16512/16512 [==============================] - 0s 5us/sample - loss: 1.3542 - mse: 1.3542 - val_loss: 1.3166 - val_mse: 1.3166\n",
      "Epoch 34/50\n",
      "16512/16512 [==============================] - 0s 5us/sample - loss: 1.3386 - mse: 1.3386 - val_loss: 1.3100 - val_mse: 1.3100\n",
      "Epoch 35/50\n",
      "16512/16512 [==============================] - 0s 5us/sample - loss: 2.0744 - mse: 2.0744 - val_loss: 1.3170 - val_mse: 1.3170\n",
      "Epoch 36/50\n",
      "16512/16512 [==============================] - 0s 5us/sample - loss: 1.3386 - mse: 1.3386 - val_loss: 1.3113 - val_mse: 1.3113\n",
      "Epoch 37/50\n",
      "16512/16512 [==============================] - 0s 5us/sample - loss: 1.3367 - mse: 1.3367 - val_loss: 1.3119 - val_mse: 1.3119\n",
      "Epoch 38/50\n",
      "16512/16512 [==============================] - 0s 5us/sample - loss: 1.3135 - mse: 1.3135 - val_loss: 1.3168 - val_mse: 1.3168\n",
      "Epoch 39/50\n",
      "16512/16512 [==============================] - 0s 5us/sample - loss: 1.3231 - mse: 1.3231 - val_loss: 1.3107 - val_mse: 1.3107\n",
      "Epoch 40/50\n",
      "16512/16512 [==============================] - 0s 4us/sample - loss: 1.3367 - mse: 1.3367 - val_loss: 1.3156 - val_mse: 1.3156\n",
      "Epoch 41/50\n",
      "16512/16512 [==============================] - 0s 5us/sample - loss: 1.3807 - mse: 1.3807 - val_loss: 1.3122 - val_mse: 1.3122\n",
      "Epoch 42/50\n",
      "16512/16512 [==============================] - 0s 5us/sample - loss: 1.3372 - mse: 1.3372 - val_loss: 1.3126 - val_mse: 1.3126\n",
      "Epoch 43/50\n",
      "16512/16512 [==============================] - 0s 5us/sample - loss: 1.3361 - mse: 1.3361 - val_loss: 1.3149 - val_mse: 1.3149\n",
      "Epoch 44/50\n",
      "16512/16512 [==============================] - 0s 5us/sample - loss: 1.3362 - mse: 1.3362 - val_loss: 1.3137 - val_mse: 1.3137\n",
      "Epoch 45/50\n",
      "16512/16512 [==============================] - 0s 5us/sample - loss: 1.3336 - mse: 1.3336 - val_loss: 1.3115 - val_mse: 1.3115\n",
      "Epoch 46/50\n",
      "16512/16512 [==============================] - 0s 5us/sample - loss: 1.3808 - mse: 1.3808 - val_loss: 1.3110 - val_mse: 1.3110\n",
      "Epoch 47/50\n",
      "16512/16512 [==============================] - 0s 5us/sample - loss: 1.3346 - mse: 1.3346 - val_loss: 1.3119 - val_mse: 1.3119\n",
      "Epoch 48/50\n",
      "16512/16512 [==============================] - 0s 5us/sample - loss: 1.3286 - mse: 1.3286 - val_loss: 1.3031 - val_mse: 1.3031\n",
      "Epoch 49/50\n",
      "16512/16512 [==============================] - 0s 5us/sample - loss: 1.3530 - mse: 1.3530 - val_loss: 1.3143 - val_mse: 1.3143\n",
      "Epoch 50/50\n",
      "16512/16512 [==============================] - 0s 5us/sample - loss: 1.3360 - mse: 1.3360 - val_loss: 1.3113 - val_mse: 1.3113\n"
     ]
    }
   ],
   "source": [
    "h = model.fit(x_train, y_train, epochs=50, batch_size=1000,validation_data=(x_test, y_test),callbacks=[tensorboard_callback])"
   ]
  },
  {
   "cell_type": "code",
   "execution_count": 44,
   "metadata": {},
   "outputs": [
    {
     "data": {
      "text/html": [
       "\n",
       "      <iframe id=\"tensorboard-frame-99246a0652a5f619\" width=\"100%\" height=\"800\" frameborder=\"0\">\n",
       "      </iframe>\n",
       "      <script>\n",
       "        (function() {\n",
       "          const frame = document.getElementById(\"tensorboard-frame-99246a0652a5f619\");\n",
       "          const url = new URL(\"/\", window.location);\n",
       "          url.port = 6006;\n",
       "          frame.src = url;\n",
       "        })();\n",
       "      </script>\n",
       "  "
      ],
      "text/plain": [
       "<IPython.core.display.HTML object>"
      ]
     },
     "metadata": {},
     "output_type": "display_data"
    }
   ],
   "source": [
    "%tensorboard --logdir logs/scalars"
   ]
  },
  {
   "cell_type": "code",
   "execution_count": 116,
   "metadata": {},
   "outputs": [
    {
     "name": "stdout",
     "output_type": "stream",
     "text": [
      "16512/16512 [==============================] - 0s 22us/sample - loss: 1.3357 - mse: 1.3357\n"
     ]
    },
    {
     "data": {
      "text/plain": [
       "[1.3356765112442563, 1.3356764]"
      ]
     },
     "execution_count": 116,
     "metadata": {},
     "output_type": "execute_result"
    }
   ],
   "source": [
    "model.evaluate(x_train, y_train)"
   ]
  },
  {
   "cell_type": "code",
   "execution_count": 117,
   "metadata": {},
   "outputs": [
    {
     "name": "stdout",
     "output_type": "stream",
     "text": [
      "4128/4128 [==============================] - 0s 19us/sample - loss: 1.3113 - mse: 1.3113\n"
     ]
    },
    {
     "data": {
      "text/plain": [
       "[1.311339514662129, 1.3113396]"
      ]
     },
     "execution_count": 117,
     "metadata": {},
     "output_type": "execute_result"
    }
   ],
   "source": [
    "model.evaluate(x_test, y_test)"
   ]
  },
  {
   "cell_type": "code",
   "execution_count": null,
   "metadata": {},
   "outputs": [],
   "source": []
  }
 ],
 "metadata": {
  "kernelspec": {
   "display_name": "Python 3",
   "language": "python",
   "name": "python3"
  },
  "language_info": {
   "codemirror_mode": {
    "name": "ipython",
    "version": 3
   },
   "file_extension": ".py",
   "mimetype": "text/x-python",
   "name": "python",
   "nbconvert_exporter": "python",
   "pygments_lexer": "ipython3",
   "version": "3.7.4"
  }
 },
 "nbformat": 4,
 "nbformat_minor": 4
}
