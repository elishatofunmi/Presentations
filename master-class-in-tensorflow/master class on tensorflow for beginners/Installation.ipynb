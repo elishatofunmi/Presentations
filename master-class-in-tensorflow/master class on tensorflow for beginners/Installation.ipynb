{
 "cells": [
  {
   "cell_type": "markdown",
   "metadata": {},
   "source": [
    "# Tensorflow Installation procedure"
   ]
  },
  {
   "cell_type": "markdown",
   "metadata": {},
   "source": [
    "### Windows/linux platform (virtual environment with conda)\n",
    "    * I wanna believe you have anaconda installed if so. Let's move on.\n",
    "    * Open Anaconda/ command prompt\n",
    "    * ensure conda is a recognized command by entering 'conda'.\n",
    "    * Create a virtual environment, my virtual environment is called tf (for CPU support).\n",
    "    * conda create -n tf tensorflow==2.0\n",
    "    * conda activate tf (to activate the environment)\n",
    "    \n",
    "    or\n",
    "    \n",
    "    * Create a virtual environment, name for instance is, 'tf-gpu'\n",
    "    * conda create -n tf-gpu tensorflow-gpu\n",
    "    * conda activate tf-gpu (to activate the environment)\n",
    "    \n",
    "    \n",
    "### Alternative\n",
    "    * pip install tensorflow==2.0 (for linux or Windows)\n",
    "    \n",
    "    \n",
    "\n",
    "\n",
    "\n"
   ]
  },
  {
   "cell_type": "code",
   "execution_count": null,
   "metadata": {},
   "outputs": [],
   "source": []
  }
 ],
 "metadata": {
  "kernelspec": {
   "display_name": "Python 3",
   "language": "python",
   "name": "python3"
  },
  "language_info": {
   "codemirror_mode": {
    "name": "ipython",
    "version": 3
   },
   "file_extension": ".py",
   "mimetype": "text/x-python",
   "name": "python",
   "nbconvert_exporter": "python",
   "pygments_lexer": "ipython3",
   "version": "3.7.4"
  }
 },
 "nbformat": 4,
 "nbformat_minor": 4
}
